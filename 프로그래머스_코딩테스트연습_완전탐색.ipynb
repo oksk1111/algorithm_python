{
  "nbformat": 4,
  "nbformat_minor": 0,
  "metadata": {
    "colab": {
      "name": "프로그래머스_코딩테스트연습_완전탐색.ipynb",
      "provenance": [],
      "collapsed_sections": [],
      "authorship_tag": "ABX9TyMsuPCUVm3aVVnnLPHbS+zm",
      "include_colab_link": true
    },
    "kernelspec": {
      "name": "python3",
      "display_name": "Python 3"
    },
    "language_info": {
      "name": "python"
    }
  },
  "cells": [
    {
      "cell_type": "markdown",
      "metadata": {
        "id": "view-in-github",
        "colab_type": "text"
      },
      "source": [
        "<a href=\"https://colab.research.google.com/github/oksk1111/algorithm_python/blob/main/%ED%94%84%EB%A1%9C%EA%B7%B8%EB%9E%98%EB%A8%B8%EC%8A%A4_%EC%BD%94%EB%94%A9%ED%85%8C%EC%8A%A4%ED%8A%B8%EC%97%B0%EC%8A%B5_%EC%99%84%EC%A0%84%ED%83%90%EC%83%89.ipynb\" target=\"_parent\"><img src=\"https://colab.research.google.com/assets/colab-badge.svg\" alt=\"Open In Colab\"/></a>"
      ]
    },
    {
      "cell_type": "markdown",
      "metadata": {
        "id": "F1lT8Wb2F_Jp"
      },
      "source": [
        "모의고사\n",
        "\n",
        "가장 많이 일치하는 데이터 찾기\n",
        "\n",
        "q1 = [1, 2, 3, 4, 5, 1, 2, 3, 4, 5, ...]\n",
        "\n",
        "q2 = [2, 1, 2, 3, 2, 4, 2, 5, 2, 1, 2, 3, 2, 4, 2, 5, ...]\n",
        "\n",
        "q3 = [3, 3, 1, 1, 2, 2, 4, 4, 5, 5, 3, 3, 1, 1, 2, 2, 4, 4, 5, 5, ...]\n",
        "\n",
        "\n",
        "answer = [1, 2, 3, 4, 5],  [1,3,2,4,2] 가 올때 가장 많이 일치하는 것은?\n",
        "\n",
        "result = [1], [1,2,3]\n",
        "\n",
        "* 입력제한: 시험은 최대 10,000 문제"
      ]
    },
    {
      "cell_type": "code",
      "metadata": {
        "colab": {
          "base_uri": "https://localhost:8080/"
        },
        "id": "eB7m2NpIF5UB",
        "outputId": "d9a3c887-53af-43dc-ec7d-b7bdfe9c87fa"
      },
      "source": [
        "# 아래는 다수 답안에서 런타임 에러 발생\n",
        "\n",
        "# q1 = 1, 2, 3, 4, 5 반복\n",
        "# q2 = 2, 1, 2, 3, 2, 4, 2, 5 반복\n",
        "# q3 = 3, 3, 1, 1, 2, 2, 4, 4, 5, 5 반복\n",
        "\n",
        "def solution(answers):\n",
        "  n = len(answers)\n",
        "\n",
        "  q1 = [1, 2, 3, 4, 5]\n",
        "  q1 *= (n // len(q1) if len(q1) < n else 1)\n",
        "  q1 = q1[:n]\n",
        "  q2 = [2, 1, 2, 3, 2, 4, 2, 5, 2, 1]\n",
        "  q2 *= (n // len(q2) if len(q2) < n else 1)\n",
        "  q2 = q2[:n]\n",
        "  q3 = [3, 3, 1, 1, 2, 2, 4, 4, 5, 5]\n",
        "  q3 *= (n // len(q3) if len(q3) < n else 1)\n",
        "  q3 = q3[:n]\n",
        "\n",
        "  q1 = [q1[i] for i in range(n) if answers[i] == q1[i]]\n",
        "  q2 = [q2[i] for i in range(n) if answers[i] == q2[i]]\n",
        "  q3 = [q3[i] for i in range(n) if answers[i] == q3[i]]\n",
        "  \n",
        "  t_q = [len(q1), len(q2), len(q3)]\n",
        "\n",
        "  answer = []\n",
        "  for idx, score in enumerate(t_q):\n",
        "    if score == max(t_q):\n",
        "      answer.append(idx + 1)\n",
        "\n",
        "  return answer\n",
        "\n",
        "\n",
        "print(solution([1,3,2,4,2]))"
      ],
      "execution_count": null,
      "outputs": [
        {
          "output_type": "stream",
          "name": "stdout",
          "text": [
            "[1, 2, 3]\n"
          ]
        }
      ]
    },
    {
      "cell_type": "code",
      "metadata": {
        "id": "P6ivbi1mH1Fm"
      },
      "source": [
        "# 다른 사람 풀이; 나머지를 이용하면 되는 것인데... 생각이 바로 안 낫다.\n",
        "\n",
        "def solution(answers): \n",
        "  answer = [] \n",
        "  answer_temp = [] \n",
        "  count01 = 0 \n",
        "  count02 = 0 \n",
        "  count03 = 0 \n",
        "  \n",
        "  one = [1,2,3,4,5] \n",
        "  two = [2,1,2,3,2,4,2,5] \n",
        "  three = [3,3,1,1,2,2,4,4,5,5] \n",
        "  \n",
        "  for i in range(len(answers)): \n",
        "    if answers[i] == one[i % len(one)]: \n",
        "      count01 += 1 \n",
        "    if answers[i] == two[i % len(two)]: \n",
        "      count02 += 1 \n",
        "    if answers[i] == three[i % len(three)]: \n",
        "      count03 += 1 \n",
        "      \n",
        "  answer_temp = [count01, count02, count03] \n",
        "  for person, score in enumerate(answer_temp): \n",
        "    if score == max(answer_temp): \n",
        "      answer.append(person+1) \n",
        "      \n",
        "  return answer\n"
      ],
      "execution_count": null,
      "outputs": []
    }
  ]
}