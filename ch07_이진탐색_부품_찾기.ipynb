{
  "nbformat": 4,
  "nbformat_minor": 0,
  "metadata": {
    "colab": {
      "name": "ch07_이진탐색_부품 찾기.ipynb",
      "provenance": [],
      "authorship_tag": "ABX9TyNQKZlNKEWKlg8BEerszZAU",
      "include_colab_link": true
    },
    "kernelspec": {
      "name": "python3",
      "display_name": "Python 3"
    },
    "language_info": {
      "name": "python"
    }
  },
  "cells": [
    {
      "cell_type": "markdown",
      "metadata": {
        "id": "view-in-github",
        "colab_type": "text"
      },
      "source": [
        "<a href=\"https://colab.research.google.com/github/oksk1111/algorithm_python/blob/main/ch07_%EC%9D%B4%EC%A7%84%ED%83%90%EC%83%89_%EB%B6%80%ED%92%88_%EC%B0%BE%EA%B8%B0.ipynb\" target=\"_parent\"><img src=\"https://colab.research.google.com/assets/colab-badge.svg\" alt=\"Open In Colab\"/></a>"
      ]
    },
    {
      "cell_type": "code",
      "metadata": {
        "colab": {
          "base_uri": "https://localhost:8080/"
        },
        "id": "qd-TUaRVkGnV",
        "outputId": "86ceaf55-9d31-4e53-bad8-73dee699d7f9"
      },
      "source": [
        "# binary search 복습\n",
        "\n",
        "def binary_search(array, target, start, end):\n",
        "  while start <= end:\n",
        "    mid = (start + end) // 2\n",
        "\n",
        "    if array[mid] == target:\n",
        "      return mid\n",
        "    elif array[mid] < target:\n",
        "      start = mid + 1\n",
        "    else:\n",
        "      end = mid - 1\n",
        "\n",
        "  return None\n",
        "\n",
        "arr = [1, 3, 5, 7, 9, 11, 13, 15, 17, 19]\n",
        "print(binary_search(arr, 7, 0, len(arr)-1))\n",
        "\n",
        "  "
      ],
      "execution_count": null,
      "outputs": [
        {
          "output_type": "stream",
          "name": "stdout",
          "text": [
            "3\n"
          ]
        }
      ]
    },
    {
      "cell_type": "markdown",
      "metadata": {
        "id": "BCU7qAm9mHE2"
      },
      "source": [
        "M 개의 부품이 N 개의 부품에 포함되어 있는지 찾기\n",
        "\n",
        "입력예:\n",
        "\n",
        "5  # n\n",
        "\n",
        "8 3 7 9 2\n",
        "\n",
        "3  # m\n",
        "\n",
        "5 7 9\n",
        "\n",
        "출력예:\n",
        "\n",
        "no yes yes"
      ]
    },
    {
      "cell_type": "code",
      "metadata": {
        "colab": {
          "base_uri": "https://localhost:8080/"
        },
        "id": "n5PrLcTRmhtX",
        "outputId": "ebf5f527-09dc-4502-e72e-8716699fe561"
      },
      "source": [
        "# 풀이가 여러개가 되겠지만 집합을 이용해 구하는게 가장 쉬움 (데이터 입력 조건이 1,000,000 이므로 이진탐색을 쓰는것도 유효함)\n",
        "\n",
        "n = int(input())\n",
        "items = set(map(int, input().split()))\n",
        "m = int(input())\n",
        "owns = list(map(int, input().split()))\n",
        "\n",
        "for i in owns:\n",
        "  if i in items:\n",
        "    print('yes', end=' ')\n",
        "  else:\n",
        "    print('no', end=' ')"
      ],
      "execution_count": null,
      "outputs": [
        {
          "output_type": "stream",
          "name": "stdout",
          "text": [
            "5\n",
            "8 3 7 9 2\n",
            "3\n",
            "5 7 9\n",
            "no yes yes "
          ]
        }
      ]
    }
  ]
}