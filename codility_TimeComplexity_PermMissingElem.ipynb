{
  "nbformat": 4,
  "nbformat_minor": 0,
  "metadata": {
    "colab": {
      "name": "codility_TimeComplexity_PermMissingElem.ipynb",
      "provenance": [],
      "authorship_tag": "ABX9TyPJ4OfBGE+erVaurC4xxx2r",
      "include_colab_link": true
    },
    "kernelspec": {
      "name": "python3",
      "display_name": "Python 3"
    },
    "language_info": {
      "name": "python"
    }
  },
  "cells": [
    {
      "cell_type": "markdown",
      "metadata": {
        "id": "view-in-github",
        "colab_type": "text"
      },
      "source": [
        "<a href=\"https://colab.research.google.com/github/oksk1111/algorithm_python/blob/main/codility_TimeComplexity_PermMissingElem.ipynb\" target=\"_parent\"><img src=\"https://colab.research.google.com/assets/colab-badge.svg\" alt=\"Open In Colab\"/></a>"
      ]
    },
    {
      "cell_type": "markdown",
      "source": [
        "1..(N+1) 에서 순서대로 되어 있지 않은 값 찾기\n",
        "\n",
        "A[0] = 2 <br>\n",
        "A[1] = 3 <br>\n",
        "A[2] = 1 <br>\n",
        "A[3] = 5 <br>\n",
        "the function should return 4, as it is the missing element.\n",
        "<br>\n",
        "<br>\n",
        "\n",
        "예외처리 고려사항\n",
        "- 비어있는 리스트는 1 반납, N 까지 있는 리스트는 N+1 반납"
      ],
      "metadata": {
        "id": "X4HYFPBMg3oA"
      }
    },
    {
      "cell_type": "code",
      "execution_count": null,
      "metadata": {
        "id": "XD3geSh6d-Gm"
      },
      "outputs": [],
      "source": [
        "def solution(A):\n",
        "    if not A:\n",
        "        return 1\n",
        "\n",
        "    A.sort()\n",
        "    for i in range(len(A)):\n",
        "        if (i + 1) != A[i]:\n",
        "            return i+1\n",
        "    \n",
        "    return len(A)+1"
      ]
    }
  ]
}