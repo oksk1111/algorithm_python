{
  "nbformat": 4,
  "nbformat_minor": 0,
  "metadata": {
    "colab": {
      "name": "codility_Arrays_CyclicRotation.ipynb",
      "provenance": [],
      "authorship_tag": "ABX9TyNSwAXqjwrTWSZ73NjyjOtS",
      "include_colab_link": true
    },
    "kernelspec": {
      "name": "python3",
      "display_name": "Python 3"
    },
    "language_info": {
      "name": "python"
    }
  },
  "cells": [
    {
      "cell_type": "markdown",
      "metadata": {
        "id": "view-in-github",
        "colab_type": "text"
      },
      "source": [
        "<a href=\"https://colab.research.google.com/github/oksk1111/algorithm_python/blob/main/codility_Arrays_CyclicRotation.ipynb\" target=\"_parent\"><img src=\"https://colab.research.google.com/assets/colab-badge.svg\" alt=\"Open In Colab\"/></a>"
      ]
    },
    {
      "cell_type": "markdown",
      "source": [
        "For example, given\n",
        "\n",
        "    A = [3, 8, 9, 7, 6]\n",
        "    K = 3\n",
        "the function should return [9, 7, 6, 3, 8]."
      ],
      "metadata": {
        "id": "8Dj9MWOAZgaq"
      }
    },
    {
      "cell_type": "code",
      "execution_count": 3,
      "metadata": {
        "colab": {
          "base_uri": "https://localhost:8080/"
        },
        "id": "qjT9RyipZPv2",
        "outputId": "0de816c7-7ed7-4ccd-b4ba-63fe89b0faae"
      },
      "outputs": [
        {
          "output_type": "execute_result",
          "data": {
            "text/plain": [
              "[9, 7, 6, 3, 8]"
            ]
          },
          "metadata": {},
          "execution_count": 3
        }
      ],
      "source": [
        "def solution(A, K):\n",
        "    if A == [] or K == 0:\n",
        "        return A\n",
        "\n",
        "    for i in range(K):\n",
        "        A.insert(0, A.pop())\n",
        "    \n",
        "    return A\n",
        "\n",
        "solution([3, 8, 9, 7, 6], 3)"
      ]
    }
  ]
}