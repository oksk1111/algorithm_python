{
  "nbformat": 4,
  "nbformat_minor": 0,
  "metadata": {
    "colab": {
      "name": "ch05_DFS/BFS_.ipynb",
      "provenance": [],
      "collapsed_sections": [],
      "authorship_tag": "ABX9TyO/8weliWYbHMlpX51JNKqe",
      "include_colab_link": true
    },
    "kernelspec": {
      "name": "python3",
      "display_name": "Python 3"
    },
    "language_info": {
      "name": "python"
    }
  },
  "cells": [
    {
      "cell_type": "markdown",
      "metadata": {
        "id": "view-in-github",
        "colab_type": "text"
      },
      "source": [
        "<a href=\"https://colab.research.google.com/github/oksk1111/algorithm_python/blob/main/ch05_DFS_BFS_.ipynb\" target=\"_parent\"><img src=\"https://colab.research.google.com/assets/colab-badge.svg\" alt=\"Open In Colab\"/></a>"
      ]
    },
    {
      "cell_type": "code",
      "metadata": {
        "colab": {
          "base_uri": "https://localhost:8080/"
        },
        "id": "a3gH7vjgQ_jM",
        "outputId": "e19af598-e719-4195-d976-7ec4685eb944"
      },
      "source": [
        "help(deque)"
      ],
      "execution_count": null,
      "outputs": [
        {
          "output_type": "stream",
          "name": "stdout",
          "text": [
            "Help on class deque in module collections:\n",
            "\n",
            "class deque(builtins.object)\n",
            " |  deque([iterable[, maxlen]]) --> deque object\n",
            " |  \n",
            " |  A list-like sequence optimized for data accesses near its endpoints.\n",
            " |  \n",
            " |  Methods defined here:\n",
            " |  \n",
            " |  __add__(self, value, /)\n",
            " |      Return self+value.\n",
            " |  \n",
            " |  __bool__(self, /)\n",
            " |      self != 0\n",
            " |  \n",
            " |  __contains__(self, key, /)\n",
            " |      Return key in self.\n",
            " |  \n",
            " |  __copy__(...)\n",
            " |      Return a shallow copy of a deque.\n",
            " |  \n",
            " |  __delitem__(self, key, /)\n",
            " |      Delete self[key].\n",
            " |  \n",
            " |  __eq__(self, value, /)\n",
            " |      Return self==value.\n",
            " |  \n",
            " |  __ge__(self, value, /)\n",
            " |      Return self>=value.\n",
            " |  \n",
            " |  __getattribute__(self, name, /)\n",
            " |      Return getattr(self, name).\n",
            " |  \n",
            " |  __getitem__(self, key, /)\n",
            " |      Return self[key].\n",
            " |  \n",
            " |  __gt__(self, value, /)\n",
            " |      Return self>value.\n",
            " |  \n",
            " |  __iadd__(self, value, /)\n",
            " |      Implement self+=value.\n",
            " |  \n",
            " |  __imul__(self, value, /)\n",
            " |      Implement self*=value.\n",
            " |  \n",
            " |  __init__(self, /, *args, **kwargs)\n",
            " |      Initialize self.  See help(type(self)) for accurate signature.\n",
            " |  \n",
            " |  __iter__(self, /)\n",
            " |      Implement iter(self).\n",
            " |  \n",
            " |  __le__(self, value, /)\n",
            " |      Return self<=value.\n",
            " |  \n",
            " |  __len__(self, /)\n",
            " |      Return len(self).\n",
            " |  \n",
            " |  __lt__(self, value, /)\n",
            " |      Return self<value.\n",
            " |  \n",
            " |  __mul__(self, value, /)\n",
            " |      Return self*value.\n",
            " |  \n",
            " |  __ne__(self, value, /)\n",
            " |      Return self!=value.\n",
            " |  \n",
            " |  __reduce__(...)\n",
            " |      Return state information for pickling.\n",
            " |  \n",
            " |  __repr__(self, /)\n",
            " |      Return repr(self).\n",
            " |  \n",
            " |  __reversed__(...)\n",
            " |      D.__reversed__() -- return a reverse iterator over the deque\n",
            " |  \n",
            " |  __rmul__(self, value, /)\n",
            " |      Return value*self.\n",
            " |  \n",
            " |  __setitem__(self, key, value, /)\n",
            " |      Set self[key] to value.\n",
            " |  \n",
            " |  __sizeof__(...)\n",
            " |      D.__sizeof__() -- size of D in memory, in bytes\n",
            " |  \n",
            " |  append(...)\n",
            " |      Add an element to the right side of the deque.\n",
            " |  \n",
            " |  appendleft(...)\n",
            " |      Add an element to the left side of the deque.\n",
            " |  \n",
            " |  clear(...)\n",
            " |      Remove all elements from the deque.\n",
            " |  \n",
            " |  copy(...)\n",
            " |      Return a shallow copy of a deque.\n",
            " |  \n",
            " |  count(...)\n",
            " |      D.count(value) -> integer -- return number of occurrences of value\n",
            " |  \n",
            " |  extend(...)\n",
            " |      Extend the right side of the deque with elements from the iterable\n",
            " |  \n",
            " |  extendleft(...)\n",
            " |      Extend the left side of the deque with elements from the iterable\n",
            " |  \n",
            " |  index(...)\n",
            " |      D.index(value, [start, [stop]]) -> integer -- return first index of value.\n",
            " |      Raises ValueError if the value is not present.\n",
            " |  \n",
            " |  insert(...)\n",
            " |      D.insert(index, object) -- insert object before index\n",
            " |  \n",
            " |  pop(...)\n",
            " |      Remove and return the rightmost element.\n",
            " |  \n",
            " |  popleft(...)\n",
            " |      Remove and return the leftmost element.\n",
            " |  \n",
            " |  remove(...)\n",
            " |      D.remove(value) -- remove first occurrence of value.\n",
            " |  \n",
            " |  reverse(...)\n",
            " |      D.reverse() -- reverse *IN PLACE*\n",
            " |  \n",
            " |  rotate(...)\n",
            " |      Rotate the deque n steps to the right (default n=1).  If n is negative, rotates left.\n",
            " |  \n",
            " |  ----------------------------------------------------------------------\n",
            " |  Static methods defined here:\n",
            " |  \n",
            " |  __new__(*args, **kwargs) from builtins.type\n",
            " |      Create and return a new object.  See help(type) for accurate signature.\n",
            " |  \n",
            " |  ----------------------------------------------------------------------\n",
            " |  Data descriptors defined here:\n",
            " |  \n",
            " |  maxlen\n",
            " |      maximum size of a deque or None if unbounded\n",
            " |  \n",
            " |  ----------------------------------------------------------------------\n",
            " |  Data and other attributes defined here:\n",
            " |  \n",
            " |  __hash__ = None\n",
            "\n"
          ]
        }
      ]
    },
    {
      "cell_type": "code",
      "metadata": {
        "colab": {
          "base_uri": "https://localhost:8080/"
        },
        "id": "a_0bRKSBPSBf",
        "outputId": "c1cec2ca-2f97-484e-80dc-4cc98a3d62ff"
      },
      "source": [
        "# test\n",
        "temp_list = [1,2,3,4,5]\n",
        "\n",
        "print(temp_list[::-1])  # 리스트를 역순으로 출력\n",
        "\n",
        "# 파이썬에서 list 는 stack 과 같다.\n",
        "# queue 는 deque 를 import 해야 한다.\n",
        "\n",
        "from collections import deque\n",
        "queue = deque([1,2])\n",
        "queue.append(3)\n",
        "queue.popleft()\n",
        "\n",
        "print(queue)"
      ],
      "execution_count": null,
      "outputs": [
        {
          "output_type": "stream",
          "name": "stdout",
          "text": [
            "[5, 4, 3, 2, 1]\n",
            "deque([2, 3])\n"
          ]
        }
      ]
    },
    {
      "cell_type": "code",
      "metadata": {
        "id": "i1cBVB6rh1Js"
      },
      "source": [
        "# test DFS, BFS\n",
        "\n",
        "# 각 노드 연결 구조를 2차원구조로\n",
        "graph = [\n",
        "         [],\n",
        "         [2, 3, 8],\n",
        "         [1, 7],\n",
        "         [1, 4, 5],\n",
        "         [3, 5],\n",
        "         [3, 4],\n",
        "         [7],\n",
        "         [2, 6, 8],\n",
        "         [1, 7]\n",
        "         ]\n",
        "\n",
        "# 각 노드 방문 여부 배열\n",
        "visited = [False] * 9   # total 8개의 데이터지만 편의상 노드번호를 배열 번호와 일치시키기 위해 0을 제외한다."
      ],
      "execution_count": null,
      "outputs": []
    },
    {
      "cell_type": "code",
      "metadata": {
        "colab": {
          "base_uri": "https://localhost:8080/"
        },
        "id": "5tPsXMUfQr90",
        "outputId": "7f119846-6d05-4b3c-85d9-e380f79f2936"
      },
      "source": [
        "# test DFS; stack 구조 이용\n",
        "\n",
        "# DFS 함수\n",
        "def dfs(graph, v, visited):\n",
        "  visited[v] = True\n",
        "  print(v, end=\" \")\n",
        "\n",
        "  for i in graph[v]:\n",
        "    if not visited[i]:\n",
        "      dfs(graph, i, visited)\n",
        "\n",
        "\n",
        "\n",
        "dfs(graph, 1, visited)    # dfs(전체그래프, 방문한노드=시작노드, 방문여부)"
      ],
      "execution_count": null,
      "outputs": [
        {
          "output_type": "stream",
          "name": "stdout",
          "text": [
            "1 2 7 6 8 3 4 5 "
          ]
        }
      ]
    },
    {
      "cell_type": "code",
      "metadata": {
        "colab": {
          "base_uri": "https://localhost:8080/"
        },
        "id": "pJS6Lc8nfBEa",
        "outputId": "867784e6-03fb-47b5-e795-7aa49bc47e96"
      },
      "source": [
        "# test BFS: queue 구조 이용\n",
        "\n",
        "from collections import deque\n",
        "\n",
        "# BFS 함수\n",
        "def bfs(graph, start, visited):\n",
        "  queue = deque([start])\n",
        "\n",
        "  visited[start] = True\n",
        "\n",
        "  while queue:\n",
        "    # 1. 인접노드를 탐색할 큐의 노드를 뺀다.\n",
        "    # 2. 뺀 노드의 인접노드들을 방문한적이 없으면 큐에 넣고 방문처리한다.\n",
        "    # 3. 반복\n",
        "    \n",
        "    v = queue.popleft()\n",
        "    print(v, end=\" \")\n",
        "    for i in graph[v]:\n",
        "      if not visited[i]:\n",
        "        queue.append(i)\n",
        "        visited[i] = True\n",
        "\n",
        "bfs(graph, 1, visited)    # bfs(전체그래프, 시작노드, 방문여부); 재귀호출이 아니기에 시작노드는 시작노드로만 끝"
      ],
      "execution_count": null,
      "outputs": [
        {
          "output_type": "stream",
          "name": "stdout",
          "text": [
            "1 2 3 8 7 4 5 6 "
          ]
        }
      ]
    }
  ]
}