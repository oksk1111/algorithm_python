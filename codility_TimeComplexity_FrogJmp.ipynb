{
  "nbformat": 4,
  "nbformat_minor": 0,
  "metadata": {
    "colab": {
      "name": "codility_TimeComplexity_FrogJmp.ipynb",
      "provenance": [],
      "collapsed_sections": [],
      "authorship_tag": "ABX9TyPWmYnRxaNBNykhdxhkNmpP",
      "include_colab_link": true
    },
    "kernelspec": {
      "name": "python3",
      "display_name": "Python 3"
    },
    "language_info": {
      "name": "python"
    }
  },
  "cells": [
    {
      "cell_type": "markdown",
      "metadata": {
        "id": "view-in-github",
        "colab_type": "text"
      },
      "source": [
        "<a href=\"https://colab.research.google.com/github/oksk1111/algorithm_python/blob/main/codility_TimeComplexity_FrogJmp.ipynb\" target=\"_parent\"><img src=\"https://colab.research.google.com/assets/colab-badge.svg\" alt=\"Open In Colab\"/></a>"
      ]
    },
    {
      "cell_type": "markdown",
      "source": [
        "X = 현재위치 <br>\n",
        "Y = 목표위치 <br>\n",
        "D = 점프거리 <br>\n",
        "\n",
        "몇번의 점프만에 Y에 도달하는가?\n",
        "\n",
        "X = 10 <br>\n",
        "y = 85 <br>\n",
        "D = 30 <br>\n",
        "return = 3"
      ],
      "metadata": {
        "id": "Oqm_VHSJCitY"
      }
    },
    {
      "cell_type": "code",
      "execution_count": null,
      "metadata": {
        "colab": {
          "base_uri": "https://localhost:8080/"
        },
        "id": "lwhQ2v8qalmo",
        "outputId": "c2ff521e-e826-45bf-f761-62a1deadbf97"
      },
      "outputs": [
        {
          "output_type": "execute_result",
          "data": {
            "text/plain": [
              "3"
            ]
          },
          "metadata": {},
          "execution_count": 1
        }
      ],
      "source": [
        "import math\n",
        "\n",
        "def solution(X, Y, D):\n",
        "    return math.ceil((Y-X)/D)\n",
        "\n",
        "\n",
        "solution(10, 85, 30)        # 3"
      ]
    }
  ]
}