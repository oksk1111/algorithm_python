{
  "nbformat": 4,
  "nbformat_minor": 0,
  "metadata": {
    "colab": {
      "name": "파이썬_알고리즘_약수소수.ipynb",
      "provenance": [],
      "collapsed_sections": [],
      "authorship_tag": "ABX9TyP1nk3RFW2kBu0ONWiwCtaC",
      "include_colab_link": true
    },
    "kernelspec": {
      "name": "python3",
      "display_name": "Python 3"
    },
    "language_info": {
      "name": "python"
    }
  },
  "cells": [
    {
      "cell_type": "markdown",
      "metadata": {
        "id": "view-in-github",
        "colab_type": "text"
      },
      "source": [
        "<a href=\"https://colab.research.google.com/github/oksk1111/algorithm_python/blob/main/%ED%8C%8C%EC%9D%B4%EC%8D%AC_%EC%95%8C%EA%B3%A0%EB%A6%AC%EC%A6%98_%EC%95%BD%EC%88%98%EC%86%8C%EC%88%98.ipynb\" target=\"_parent\"><img src=\"https://colab.research.google.com/assets/colab-badge.svg\" alt=\"Open In Colab\"/></a>"
      ]
    },
    {
      "cell_type": "code",
      "metadata": {
        "colab": {
          "base_uri": "https://localhost:8080/"
        },
        "id": "SjEYZGkxCf6g",
        "outputId": "010cb1a9-5678-494b-8aa2-66026bdece54"
      },
      "source": [
        "# 파이썬 약수를 구하고 1이 아닌 약수 중 소수만의 곱으로 원래 값을 만드는 쌍의 집합 구하기\n",
        "# 입력예: 6 ; 12\n",
        "# 출력예: [(2, 3)], [(-1, -1)]\n",
        "#- 소수구하기엔 에라토스테네스의 체 이용 - 소수의 배수들을 배열이나 집합에서 제거\n",
        "\n",
        "from itertools import combinations\n",
        "import math\n",
        "\n",
        "def solution(n):\n",
        "  #1. 약수를 구한다. - 약수는 n**(1/2) 까지만 구한다.\n",
        "  #2. #1에서 소수인지 판별\n",
        "  #3. 항목끼리 곱해서 n 인지 파악\n",
        "\n",
        "  #1\n",
        "  yaksu = set()\n",
        "  for i in range(1, int(sqrt(n)))+1):\n",
        "    if n % i == 0:\n",
        "      yaksu.update([i, n // i])   \n",
        "  #print(list(yaksu))\n",
        "\n",
        "\n",
        "  #2\n",
        "  for i in range(2, n):\n",
        "    yaksu -= set(range(i*2, n+1, i))\n",
        "    \n",
        "  yaksu.remove(1)\n",
        "  #print(list(yaksu))\n",
        "\n",
        "\n",
        "  #3\n",
        "  yaksu = list(combinations(yaksu, 2))\n",
        "  #print(yaksu)\n",
        "  \n",
        "  for a, b in yaksu:\n",
        "    if a * b != n:\n",
        "      yaksu.remove((a, b))\n",
        "\n",
        "  if len(yaksu) == 0:\n",
        "    return [(-1, -1)]\n",
        "\n",
        "  return yaksu\n",
        "\n",
        "\n",
        "print(solution(12))"
      ],
      "execution_count": null,
      "outputs": [
        {
          "output_type": "stream",
          "name": "stdout",
          "text": [
            "[(-1, -1)]\n"
          ]
        }
      ]
    },
    {
      "cell_type": "code",
      "metadata": {
        "colab": {
          "base_uri": "https://localhost:8080/"
        },
        "id": "kBFcyyMyHGEM",
        "outputId": "8fc6fc71-abe9-4fd3-9f50-460b4c5679cf"
      },
      "source": [
        "# n 이 주어졌을때 소수판별\n",
        "\n",
        "import math\n",
        "\n",
        "n = 7\n",
        "\n",
        "yaksu = set()\n",
        "for i in range(1, int(math.sqrt(n))+1):\n",
        "  if n % i == 0:\n",
        "    yaksu.update([i, n // i])   \n",
        "\n",
        "print(len(yaksu))\n",
        "\n",
        "print(list(yaksu))"
      ],
      "execution_count": null,
      "outputs": [
        {
          "output_type": "stream",
          "name": "stdout",
          "text": [
            "2\n",
            "[1, 7]\n"
          ]
        }
      ]
    },
    {
      "cell_type": "code",
      "metadata": {
        "colab": {
          "base_uri": "https://localhost:8080/"
        },
        "id": "q6SFsdJ-MdcR",
        "outputId": "84d12413-ea9d-4598-e313-29ecb16479e5"
      },
      "source": [
        "\n",
        "\n",
        "arr = [[1,3,5], [2,2,4], [3, 5, 6], [4, 7, 8], [5, 7, 10]]\n",
        "\n",
        "print(max(map(max, arr[1:])))\n",
        "print(min(map(min, arr[1:])))"
      ],
      "execution_count": null,
      "outputs": [
        {
          "output_type": "stream",
          "name": "stdout",
          "text": [
            "10\n",
            "2\n"
          ]
        }
      ]
    },
    {
      "cell_type": "code",
      "metadata": {
        "colab": {
          "base_uri": "https://localhost:8080/"
        },
        "id": "d_3tMPrw8DoH",
        "outputId": "6e34a894-822d-4728-a20e-cc3a8439bd53"
      },
      "source": [
        "n = int(input())\n",
        "arr = []\n",
        "for i in range(n):\n",
        "  arr.append(list(map(int, input().split())))\n",
        "\n",
        "max_time = max(map(max, arr[1:]))\n",
        "\n",
        "print(max_time)"
      ],
      "execution_count": null,
      "outputs": [
        {
          "output_type": "stream",
          "name": "stdout",
          "text": [
            "5\n",
            "1 3 5\n",
            "2 2 4\n",
            "3 5 6 \n",
            "4 7 8\n",
            "5 7 10\n",
            "10\n"
          ]
        }
      ]
    },
    {
      "cell_type": "code",
      "metadata": {
        "colab": {
          "base_uri": "https://localhost:8080/"
        },
        "id": "IgMlUge_93yS",
        "outputId": "fdb55c4c-135f-4de2-af9f-e47104f1d977"
      },
      "source": [
        "arr = [0,1,1,1]\n",
        "\n",
        "if 0 in arr[1:]:\n",
        "  print('True')\n",
        "else:\n",
        "  print('False')"
      ],
      "execution_count": null,
      "outputs": [
        {
          "output_type": "stream",
          "name": "stdout",
          "text": [
            "False\n"
          ]
        }
      ]
    },
    {
      "cell_type": "code",
      "metadata": {
        "colab": {
          "base_uri": "https://localhost:8080/"
        },
        "id": "WjTt-iI6BJxT",
        "outputId": "56f3437e-2b13-461d-bc4b-33392923e919"
      },
      "source": [
        "arr = [[1,3,5], [2,1,4], [3,5,7], [4,0,6], [5,3,8], [6,5,9], [7,6,10], [8,8,11], [9,8,12], [10,2,13], [11,12,24]]\n",
        "\n",
        "#1. start 가 가장 빠른 순\n",
        "#2. end-start 가 가장 작은 순\n",
        "\n",
        "arr.sort(key=lambda x:x[1])\n",
        "print(arr)\n",
        "arr.sort(key=lambda x:x[2]-x[1])\n",
        "print(arr)"
      ],
      "execution_count": null,
      "outputs": [
        {
          "output_type": "stream",
          "name": "stdout",
          "text": [
            "[[4, 0, 6], [2, 1, 4], [10, 2, 13], [1, 3, 5], [5, 3, 8], [3, 5, 7], [6, 5, 9], [7, 6, 10], [8, 8, 11], [9, 8, 12], [11, 12, 24]]\n",
            "[[1, 3, 5], [3, 5, 7], [2, 1, 4], [8, 8, 11], [6, 5, 9], [7, 6, 10], [9, 8, 12], [5, 3, 8], [4, 0, 6], [10, 2, 13], [11, 12, 24]]\n"
          ]
        }
      ]
    },
    {
      "cell_type": "code",
      "metadata": {
        "colab": {
          "base_uri": "https://localhost:8080/"
        },
        "id": "decTZmBgEEYL",
        "outputId": "58071645-67da-454d-ee75-b241b2a7bfaa"
      },
      "source": [
        "#n = int(input())\n",
        "#arr = [list(map(int, input().split())) for _ in range(n)]\n",
        "\n",
        "n = 11\n",
        "arr = [[1,3,5], [2,1,4], [3,5,7], [4,0,6], [5,3,8], [6,5,9], [7,6,10], [8,8,11], [9,8,12], [10,2,13], [11,12,24]]\n",
        "#arr = [[1,3,5], [2,2,4], [3,5,6], [4,7,8], [5,7,10]]\n",
        "\n",
        "arr = sorted(arr, key=lambda x: (x[2], x[1]))\n",
        "#arr = sorted(arr, key=lambda x: (x[1], x[2]))\n",
        "\n",
        "answer = 1\n",
        "end = arr[0][2]\n",
        "print(end)\n",
        "for i in range(1, n):\n",
        "    if arr[i][1] >= end:\n",
        "        end = arr[i][2]\n",
        "        answer += 1\n",
        "\n",
        "print(answer)"
      ],
      "execution_count": null,
      "outputs": [
        {
          "output_type": "stream",
          "name": "stdout",
          "text": [
            "[[2, 1, 4], [1, 3, 5], [4, 0, 6], [3, 5, 7], [5, 3, 8], [6, 5, 9], [7, 6, 10], [8, 8, 11], [9, 8, 12], [10, 2, 13], [11, 12, 24]]\n",
            "4\n",
            "4\n"
          ]
        }
      ]
    },
    {
      "cell_type": "code",
      "metadata": {
        "colab": {
          "base_uri": "https://localhost:8080/"
        },
        "id": "cdb1yTcML5bL",
        "outputId": "4cd9a5f5-08f1-4606-be59-14f59da30e6f"
      },
      "source": [
        "import sys, heapq\n",
        "\n",
        "n = 11\n",
        "arr = [[1,3,5], [2,1,4], [3,5,7], [4,0,6], [5,3,8], [6,5,9], [7,6,10], [8,8,11], [9,8,12], [10,2,13], [11,12,24]]\n",
        "\n",
        "arr.sort(key=lambda x:x[1])\n",
        "\n",
        "answer = 0\n",
        "heap = []\n",
        "for i, start, end in arr:\n",
        "    if (not heap or heap[0] > start):\n",
        "        answer += 1\n",
        "        heapq.heappush(heap, end)\n",
        "    else:\n",
        "        heapq.heappop(heap)\n",
        "        heapq.heappush(heap, end)\n",
        "\n",
        "print(answer)"
      ],
      "execution_count": null,
      "outputs": [
        {
          "output_type": "stream",
          "name": "stdout",
          "text": [
            "5\n"
          ]
        }
      ]
    },
    {
      "cell_type": "code",
      "metadata": {
        "colab": {
          "base_uri": "https://localhost:8080/"
        },
        "id": "Nz8H8YpAMk5G",
        "outputId": "62c29251-9a95-49f5-ae4c-699cbc5d0408"
      },
      "source": [
        "n = 5\n",
        "#arr = [[1,3,5], [2,1,4], [3,5,7], [4,0,6], [5,3,8], [6,5,9], [7,6,10], [8,8,11], [9,8,12], [10,2,13], [11,12,24]]\n",
        "arr = [[1,3,5], [2,2,4], [3,5,6], [4,7,8], [5,7,10]]\n",
        "\n",
        "arr.sort(key=lambda x: (x[2], x[1]))\n",
        "#arr = sorted(arr, key=lambda x: (x[1], x[2]))\n",
        "\n",
        "answer = 1\n",
        "end = arr[0][2]\n",
        "for i in range(1, n):\n",
        "    if arr[i][1] >= end:\n",
        "        end = arr[i][2]\n",
        "        answer += 1\n",
        "\n",
        "print(answer)\n",
        "\n",
        "\n",
        "arr.sort(key=lambda x:x[1])\n",
        "\n",
        "answer = 0\n",
        "heap = []\n",
        "for i, start, end in arr:\n",
        "    if not heap or heap[0] > start:\n",
        "        answer += 1\n",
        "        heapq.heappush(heap, end)\n",
        "    else:\n",
        "        heapq.heappop(heap)\n",
        "        heapq.heappush(heap, end)\n",
        "\n",
        "print(answer)"
      ],
      "execution_count": null,
      "outputs": [
        {
          "output_type": "stream",
          "name": "stdout",
          "text": [
            "3\n",
            "2\n"
          ]
        }
      ]
    },
    {
      "cell_type": "code",
      "metadata": {
        "colab": {
          "base_uri": "https://localhost:8080/"
        },
        "id": "5WewFF3xTdKO",
        "outputId": "8fce93fb-9838-4fde-a1e8-8fac072c4623"
      },
      "source": [
        "import math\n",
        "\n",
        "k = 2\n",
        "n = 5\n",
        "\n",
        "\n",
        "def find(start, end, target):\n",
        "  while start <= end:\n",
        "    mid = (start + end) // 2\n",
        "    #total = sum([step-mid for step in steps if step > mid])\n",
        "    \n",
        "\n",
        "    if target >= mid:\n",
        "      start = mid + 1\n",
        "    else:\n",
        "      end = mid - 1\n",
        "  \n",
        "  print(end)\n",
        "\n",
        "\n",
        "s = steps[0]\n",
        "e = steps[n-1]\n",
        "print((e-s)/2)\n",
        "\n",
        "find(s, e, e // k)"
      ],
      "execution_count": null,
      "outputs": [
        {
          "output_type": "stream",
          "name": "stdout",
          "text": [
            "5.5\n",
            "6\n"
          ]
        }
      ]
    }
  ]
}