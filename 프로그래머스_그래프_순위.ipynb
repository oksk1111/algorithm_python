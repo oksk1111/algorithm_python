{
  "nbformat": 4,
  "nbformat_minor": 0,
  "metadata": {
    "colab": {
      "name": "프로그래머스_그래프_순위.ipynb",
      "provenance": [],
      "collapsed_sections": [],
      "authorship_tag": "ABX9TyOkWVvX3Io2/x+d0+LiWUbL",
      "include_colab_link": true
    },
    "kernelspec": {
      "name": "python3",
      "display_name": "Python 3"
    },
    "language_info": {
      "name": "python"
    }
  },
  "cells": [
    {
      "cell_type": "markdown",
      "metadata": {
        "id": "view-in-github",
        "colab_type": "text"
      },
      "source": [
        "<a href=\"https://colab.research.google.com/github/oksk1111/algorithm_python/blob/main/%ED%94%84%EB%A1%9C%EA%B7%B8%EB%9E%98%EB%A8%B8%EC%8A%A4_%EA%B7%B8%EB%9E%98%ED%94%84_%EC%88%9C%EC%9C%84.ipynb\" target=\"_parent\"><img src=\"https://colab.research.google.com/assets/colab-badge.svg\" alt=\"Open In Colab\"/></a>"
      ]
    },
    {
      "cell_type": "markdown",
      "source": [
        "문제 설명 <br>\n",
        "n명의 권투선수가 권투 대회에 참여했고 각각 1번부터 n번까지 번호를 받았습니다. <br>\n",
        "권투 경기는 1대1 방식으로 진행이 되고, 만약 A 선수가 B 선수보다 실력이 좋다면 A 선수는 B 선수를 항상 이깁니다. <br>\n",
        "심판은 주어진 경기 결과를 가지고 선수들의 순위를 매기려 합니다. <br>\n",
        "하지만 몇몇 경기 결과를 분실하여 정확하게 순위를 매길 수 없습니다. <br>\n",
        " <br>\n",
        "선수의 수 n, 경기 결과를 담은 2차원 배열 results가 매개변수로 주어질 때 정확하게 순위를 매길 수 있는 선수의 수를 return 하도록 solution 함수를 작성해주세요. <br><br>\n",
        "\n",
        "제한사항<br>\n",
        "선수의 수는 1명 이상 100명 이하입니다.<br>\n",
        "경기 결과는 1개 이상 4,500개 이하입니다.<br>\n",
        "results 배열 각 행 [A, B]는 A 선수가 B 선수를 이겼다는 의미입니다.<br>\n",
        "모든 경기 결과에는 모순이 없습니다.<br><br>\n",
        "입출력 예<br>\n",
        "n\tresults\treturn<br>\n",
        "5\t[[4, 3], [4, 2], [3, 2], [1, 2], [2, 5]]\t2<br><br>\n",
        "입출력 예 설명<br>\n",
        "2번 선수는 [1, 3, 4] 선수에게 패배했고 5번 선수에게 승리했기 때문에 4위입니다.<br>\n",
        "5번 선수는 4위인 2번 선수에게 패배했기 때문에 5위입니다.<br>"
      ],
      "metadata": {
        "id": "ZzqOKLYvmeeT"
      }
    },
    {
      "cell_type": "code",
      "execution_count": null,
      "metadata": {
        "colab": {
          "base_uri": "https://localhost:8080/"
        },
        "id": "TsK5JVK4mTyB",
        "outputId": "30616f91-bb6f-4334-fff6-361ac1fe9df6"
      },
      "outputs": [
        {
          "output_type": "execute_result",
          "data": {
            "text/plain": [
              "2"
            ]
          },
          "metadata": {},
          "execution_count": 9
        }
      ],
      "source": [
        "\n",
        "def solution(n, results):\n",
        "    # 1. 그래프 만들기\n",
        "    # 1.1. 자기자신 = None\n",
        "    # 1.2. 간선정보 입력\n",
        "    graph = [[0] * n for _ in range(n+1)]\n",
        "    #for a in range(1, n+1):\n",
        "    #    graph[a][a] = None\n",
        "    for a, b in results:\n",
        "        graph[a-1][b-1] = 1     # Win\n",
        "        graph[b-1][a-1] = -1    # Lose;  0 = None\n",
        "    \n",
        "    # 플루이드 워셜\n",
        "    for k in range(0, n):\n",
        "        for a in range(0, n):\n",
        "            for b in range(0, n):\n",
        "                # if graph[a][k] == None or graph[k][b] == None:\n",
        "                #     continue\n",
        "                if graph[a][b] == 0:\n",
        "                    if graph[a][k] == 1 and graph[k][b] == 1:\n",
        "                        graph[a][b] = 1\n",
        "                    elif graph[a][k] == -1 and graph[k][b] == -1:\n",
        "                        graph[a][b] = -1\n",
        "    \n",
        "    answer = 0\n",
        "    # 0(= None) 이 하나인 경우(자기자신)는 승패를 확실히 아는 경우\n",
        "    for i in range(0, n):\n",
        "        if graph[i].count(0) == 1:\n",
        "            answer += 1\n",
        "\n",
        "    return answer\n",
        "\n",
        "\n",
        "solution(5, [[4, 3], [4, 2], [3, 2], [1, 2], [2, 5]])       # return 2"
      ]
    }
  ]
}