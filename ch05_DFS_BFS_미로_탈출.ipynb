{
  "nbformat": 4,
  "nbformat_minor": 0,
  "metadata": {
    "colab": {
      "name": "ch05_DFS/BFS_미로 탈출.ipynb",
      "provenance": [],
      "collapsed_sections": [],
      "authorship_tag": "ABX9TyMjiES4kYtMXfoatJZOqCxH",
      "include_colab_link": true
    },
    "kernelspec": {
      "name": "python3",
      "display_name": "Python 3"
    },
    "language_info": {
      "name": "python"
    }
  },
  "cells": [
    {
      "cell_type": "markdown",
      "metadata": {
        "id": "view-in-github",
        "colab_type": "text"
      },
      "source": [
        "<a href=\"https://colab.research.google.com/github/oksk1111/algorithm_python/blob/main/ch05_DFS_BFS_%EB%AF%B8%EB%A1%9C_%ED%83%88%EC%B6%9C.ipynb\" target=\"_parent\"><img src=\"https://colab.research.google.com/assets/colab-badge.svg\" alt=\"Open In Colab\"/></a>"
      ]
    },
    {
      "cell_type": "markdown",
      "metadata": {
        "id": "QL8EkcHO5p4E"
      },
      "source": [
        "행열에서 1인곳만 이동하되 가장 최단 경로로 이동. (0, 0) to (n, m)으로 이동. 총이동 횟수는?\n",
        "\n",
        "\n",
        "입력예:\n",
        "\n",
        "5 6\n",
        "\n",
        "101010\n",
        "\n",
        "111111\n",
        "\n",
        "000001\n",
        "\n",
        "111111\n",
        "\n",
        "111111\n",
        "\n",
        "출력예:\n",
        "\n",
        "10"
      ]
    },
    {
      "cell_type": "code",
      "metadata": {
        "colab": {
          "base_uri": "https://localhost:8080/"
        },
        "id": "W5foOrzH5jmR",
        "outputId": "c2b05bb3-bdd8-41fe-ebc8-fca2d80d3f7f"
      },
      "source": [
        "from collections import deque\n",
        "\n",
        "n, m = map(int, input().split())\n",
        "graph = []\n",
        "for _ in range(n):\n",
        "  graph.append(list(map(int, input())))\n",
        "\n",
        "dirs = [(-1,0), (1,0), (0, -1), (0, 1)]\n",
        "\n",
        "\n",
        "# 1. queue 에 초기값 넣기\n",
        "# 2. queue 가 이동할 경로 내에서\n",
        "# 3. queue 의 현재값 popleft()\n",
        "# 4. queue 의 return False 먼저 파악\n",
        "# 5, queue 의 append 하는 상황 처리\n",
        "def bfs(x, y):\n",
        "  queue = deque()\n",
        "  queue.append((x, y))\n",
        "  \n",
        "  while queue:\n",
        "    x, y = queue.popleft()\n",
        "\n",
        "    for i in range(4):\n",
        "      nx = x + dirs[i][0]\n",
        "      ny = y + dirs[i][1]\n",
        "\n",
        "      if nx < 0 or nx >= n or ny < 0 or ny >= m:\n",
        "        continue\n",
        "      if graph[nx][ny] == 0:\n",
        "        continue\n",
        "\n",
        "      if graph[nx][ny] == 1:\n",
        "        graph[nx][ny] = graph[x][y] + 1\n",
        "        queue.append((nx, ny))\n",
        "\n",
        "  return graph[n-1][m-1]\n",
        "\n",
        "\n",
        "print(bfs(0, 0))"
      ],
      "execution_count": null,
      "outputs": [
        {
          "output_type": "stream",
          "name": "stdout",
          "text": [
            "5 6\n",
            "101010\n",
            "111111\n",
            "000001\n",
            "111111\n",
            "111111\n",
            "10\n"
          ]
        }
      ]
    }
  ]
}