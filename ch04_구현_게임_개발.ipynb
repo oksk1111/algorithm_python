{
  "nbformat": 4,
  "nbformat_minor": 0,
  "metadata": {
    "colab": {
      "name": "ch04_구현_게임 개발.ipynb",
      "provenance": [],
      "collapsed_sections": [],
      "authorship_tag": "ABX9TyMKvsOQ6wmD+HY+pEfLH9ys",
      "include_colab_link": true
    },
    "kernelspec": {
      "name": "python3",
      "display_name": "Python 3"
    },
    "language_info": {
      "name": "python"
    }
  },
  "cells": [
    {
      "cell_type": "markdown",
      "metadata": {
        "id": "view-in-github",
        "colab_type": "text"
      },
      "source": [
        "<a href=\"https://colab.research.google.com/github/oksk1111/algorithm_python/blob/main/ch04_%EA%B5%AC%ED%98%84_%EA%B2%8C%EC%9E%84_%EA%B0%9C%EB%B0%9C.ipynb\" target=\"_parent\"><img src=\"https://colab.research.google.com/assets/colab-badge.svg\" alt=\"Open In Colab\"/></a>"
      ]
    },
    {
      "cell_type": "markdown",
      "metadata": {
        "id": "eiIfHx3qEZfz"
      },
      "source": [
        "맵상에서 4방향으로 이동안한곳을 찾아서 가고 이동못할때까지 이동 후 총 이동횟수 계산\n",
        "\n",
        "\n",
        "입력예:\n",
        "\n",
        "4 4     # n, m 맵크기\n",
        "\n",
        "1 1 0    # y, x, d  현재위치, 현재방향\n",
        "\n",
        "1 1 1 1    # 1은 못가는 곳, 0은 갈 수 있는 곳.\n",
        "\n",
        "1 0 0 1\n",
        "\n",
        "1 1 0 1\n",
        "\n",
        "1 1 1 1"
      ]
    },
    {
      "cell_type": "code",
      "metadata": {
        "colab": {
          "base_uri": "https://localhost:8080/"
        },
        "id": "AuhqQ9SAMBYO",
        "outputId": "5c4a6a3c-4e94-4d09-d30f-59890200e645"
      },
      "source": [
        "dirs = [(-1, 0), (0, -1), (1, 0), (0, 1)]\n",
        "\n",
        "print(dirs[0][1])"
      ],
      "execution_count": null,
      "outputs": [
        {
          "output_type": "stream",
          "name": "stdout",
          "text": [
            "0\n"
          ]
        }
      ]
    },
    {
      "cell_type": "code",
      "metadata": {
        "colab": {
          "base_uri": "https://localhost:8080/"
        },
        "id": "fJSg0aYjEU6h",
        "outputId": "83b4dd90-aaed-4f90-b9bc-7de60b22e703"
      },
      "source": [
        "\n",
        "def turn_left(d):\n",
        "  d += 1\n",
        "  if d > 3:\n",
        "    d = 0\n",
        "  return d\n",
        "\n",
        "\n",
        "n, m = map(int, input().split())\n",
        "x, y, d = map(int, input().split())\n",
        "arr = []    # 실제 맵; 2차원 배열 입력 받기\n",
        "for _ in range(n):\n",
        "  arr.append(list(map(int, input().split())))\n",
        "\n",
        "move_map = [[0] * m for _ in range(n)]    # 이동맵; 2차원 배열 초기화 방법\n",
        "\n",
        "r_cnt = 0   # 0~3\n",
        "total_move = 1\n",
        "dirs = [(-1, 0), (0, -1), (1, 0), (0, 1)]   # (x, y)\n",
        "\n",
        "\n",
        "while True:\n",
        "  d = turn_left(d)    # 게임 규칙에서 먼저 회전이동 하고 시작한다.\n",
        "\n",
        "  dx, dy = x, y\n",
        "  dx += dirs[d][0]\n",
        "  dy += dirs[d][1]\n",
        "\n",
        "  if move_map[dx][dy] == 0 and arr[dx][dy] == 0:\n",
        "    x, y = dx, dy\n",
        "    move_map[x][y] = 1    # 이동한 곳 표시; 추후 다시 이동 하지 않음 (방향전환 4회일 때만 back 함)\n",
        "    total_move += 1\n",
        "    r_cnt = 0\n",
        "    continue\n",
        "  else:\n",
        "    r_cnt += 1\n",
        "\n",
        "  if r_cnt > 3:\n",
        "    dx = x - dirs[d][0]\n",
        "    dy = y - dirs[d][1]\n",
        "\n",
        "    if arr[dx][dy] == 1:\n",
        "      x, y = dx, dy\n",
        "    else:\n",
        "      break\n",
        "\n",
        "\n",
        "print(total_move)  "
      ],
      "execution_count": null,
      "outputs": [
        {
          "output_type": "stream",
          "name": "stdout",
          "text": [
            "4 4\n",
            "1 1 0\n",
            "1 1 1 1\n",
            "1 0 0 1\n",
            "1 1 0 1\n",
            "1 1 1 1\n",
            "3\n"
          ]
        }
      ]
    }
  ]
}