{
  "nbformat": 4,
  "nbformat_minor": 0,
  "metadata": {
    "colab": {
      "name": "ch03_그리디_숫자 카드 게임.ipynb",
      "provenance": [],
      "collapsed_sections": [],
      "authorship_tag": "ABX9TyMVu/b+ajZUTKqDUf+5sfjF",
      "include_colab_link": true
    },
    "kernelspec": {
      "name": "python3",
      "display_name": "Python 3"
    },
    "language_info": {
      "name": "python"
    }
  },
  "cells": [
    {
      "cell_type": "markdown",
      "metadata": {
        "id": "view-in-github",
        "colab_type": "text"
      },
      "source": [
        "<a href=\"https://colab.research.google.com/github/oksk1111/algorithm_python/blob/main/ch03_%EA%B7%B8%EB%A6%AC%EB%94%94_%EC%88%AB%EC%9E%90_%EC%B9%B4%EB%93%9C_%EA%B2%8C%EC%9E%84.ipynb\" target=\"_parent\"><img src=\"https://colab.research.google.com/assets/colab-badge.svg\" alt=\"Open In Colab\"/></a>"
      ]
    },
    {
      "cell_type": "markdown",
      "metadata": {
        "id": "xk9HPr3H7Q4f"
      },
      "source": [
        "각 행중의 최소값이\n",
        "전체 열중에서 최대값을 찾기\n",
        "\n",
        "입력예:\n",
        "\n",
        "2 4\n",
        "\n",
        "7 3 1 8\n",
        "\n",
        "3 3 3 4\n",
        "\n",
        "결과\n",
        "3"
      ]
    },
    {
      "cell_type": "code",
      "metadata": {
        "colab": {
          "base_uri": "https://localhost:8080/"
        },
        "id": "MbBjOyrC2Jt9",
        "outputId": "a2c42531-8f62-46e1-8a5e-2b4916cbc7da"
      },
      "source": [
        "maxVal = 0\n",
        "\n",
        "n, m = map(int, input().split())\n",
        "\n",
        "for i in range(n):\n",
        "  numbers = list(map(int, input().split()))\n",
        "  tempMin = min(numbers)\n",
        "  maxVal = max(maxVal, tempMin)\n",
        "\n",
        "print(maxVal)"
      ],
      "execution_count": null,
      "outputs": [
        {
          "output_type": "stream",
          "name": "stdout",
          "text": [
            "3 3\n",
            "3 1 2\n",
            "4 1 4\n",
            "2 2 2\n",
            "2\n"
          ]
        }
      ]
    }
  ]
}