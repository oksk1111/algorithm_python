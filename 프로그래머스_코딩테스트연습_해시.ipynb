{
  "nbformat": 4,
  "nbformat_minor": 0,
  "metadata": {
    "colab": {
      "name": "프로그래머스_코딩테스트연습_해시.ipynb",
      "provenance": [],
      "collapsed_sections": [],
      "authorship_tag": "ABX9TyMh6teJObrS9Db4k29PwKSZ",
      "include_colab_link": true
    },
    "kernelspec": {
      "name": "python3",
      "display_name": "Python 3"
    },
    "language_info": {
      "name": "python"
    }
  },
  "cells": [
    {
      "cell_type": "markdown",
      "metadata": {
        "id": "view-in-github",
        "colab_type": "text"
      },
      "source": [
        "<a href=\"https://colab.research.google.com/github/oksk1111/algorithm_python/blob/main/%ED%94%84%EB%A1%9C%EA%B7%B8%EB%9E%98%EB%A8%B8%EC%8A%A4_%EC%BD%94%EB%94%A9%ED%85%8C%EC%8A%A4%ED%8A%B8%EC%97%B0%EC%8A%B5_%ED%95%B4%EC%8B%9C.ipynb\" target=\"_parent\"><img src=\"https://colab.research.google.com/assets/colab-badge.svg\" alt=\"Open In Colab\"/></a>"
      ]
    },
    {
      "cell_type": "code",
      "metadata": {
        "colab": {
          "base_uri": "https://localhost:8080/"
        },
        "id": "hPt-n6yVbX4P",
        "outputId": "0ab63edb-44cc-4c54-ccba-288d9a34f843"
      },
      "source": [
        "# 여러 진법으로 계산\n",
        "\n",
        "n = int(input())\n",
        "\n",
        "print(bin(n)) # 2진법\n",
        "print(oct(n)) # 8진법\n",
        "print(hex(n)) # 16진법\n",
        "\n",
        "# n진법\n",
        "def change_mod(n, q):\n",
        "  result = ''\n",
        "\n",
        "  while n > 0:\n",
        "    n, remain = divmod(n, q)\n",
        "    result += str(remain)\n",
        "\n",
        "  return result[::-1]\n",
        "\n",
        "print(change_mod(n, 2)) # 2진법\n",
        "print(change_mod(n, 3)) # 3진법\n",
        "print(change_mod(n, 4)) # 4진법\n",
        "print(change_mod(n, 5)) # 5진법\n",
        "print(change_mod(n, 6)) # 6진법\n",
        "print(change_mod(n, 7)) # 7진법\n",
        "print(change_mod(n, 8)) # 8진법\n",
        "print(change_mod(n, 8)) # 9진법\n"
      ],
      "execution_count": null,
      "outputs": [
        {
          "output_type": "stream",
          "name": "stdout",
          "text": [
            "11\n",
            "0b1011\n",
            "0o13\n",
            "0xb\n",
            "1011\n",
            "102\n",
            "23\n",
            "21\n",
            "15\n",
            "14\n",
            "13\n",
            "13\n"
          ]
        }
      ]
    },
    {
      "cell_type": "code",
      "metadata": {
        "colab": {
          "base_uri": "https://localhost:8080/"
        },
        "id": "rtZwKB_bj82C",
        "outputId": "29eab484-b0c2-466a-85b6-45c06272d40e"
      },
      "source": [
        "# 완주하지 못한 선수\n",
        "# participant 에서 completion 빼기\n",
        "#-> Counter 를 쓸 줄 아는지에 대한 질문\n",
        "#! dict 끼리는 빼는게 가능하다!\n",
        "\n",
        "from collections import Counter\n",
        "\n",
        "participant = ['aa', 'bb', 'aa', 'cc']\n",
        "completion = ['aa', 'bb', 'cc']\n",
        "answer = ''\n",
        "    \n",
        "#for i in completion:\n",
        "#    participant.remove(i)\n",
        "#answer = ''.join(participant)\n",
        "\n",
        "print(Counter(participant) - Counter(completion))\n",
        "answer = list(Counter(participant) - Counter(completion))[0]\n",
        "\n",
        "print(answer)"
      ],
      "execution_count": null,
      "outputs": [
        {
          "output_type": "stream",
          "name": "stdout",
          "text": [
            "Counter({'aa': 1})\n",
            "aa\n"
          ]
        }
      ]
    },
    {
      "cell_type": "code",
      "metadata": {
        "colab": {
          "base_uri": "https://localhost:8080/"
        },
        "id": "0x2yXTOqYNr7",
        "outputId": "95c2b7d8-bd57-4b1f-f4ba-4c19d0482369"
      },
      "source": [
        "# 전화번호 목록\n",
        "# phone_book 아이템 중 접두어 포함되는게 하나라도 있으면 False\n",
        "#-> 정렬 후 앞뒤만 비교하면 됨\n",
        "\n",
        "def solution(phone_book):\n",
        "  answer = True\n",
        "  phone_book.sort()\n",
        "  print(phone_book)\n",
        "  for i in range(len(phone_book)-1):\n",
        "    if phone_book[i+1].find(phone_book[i]) == 0:\n",
        "      answer = False\n",
        "      return answer\n",
        "    \n",
        "  return answer\n",
        "\n",
        "\n",
        "phone_book = ['123', '456', '789']\n",
        "print(solution(phone_book))\n"
      ],
      "execution_count": null,
      "outputs": [
        {
          "output_type": "stream",
          "name": "stdout",
          "text": [
            "['123', '456', '789']\n",
            "True\n"
          ]
        }
      ]
    },
    {
      "cell_type": "code",
      "metadata": {
        "colab": {
          "base_uri": "https://localhost:8080/"
        },
        "id": "f_IqR-VchFfA",
        "outputId": "bfaf72a9-3dd5-4163-e257-e0b8f1673c0d"
      },
      "source": [
        "# 위장\n",
        "# 전체 파트별로 조합가능한 개수 (파트당 1개)\n",
        "#-> 선택하지 않는 것도 포함해서 전체개수 곱 - 1 을 해주는 것이 포인트!!\n",
        "# 주요포인트\n",
        "#-- 딕셔너리 문법 get(x, '디폴트 값')\n",
        "#-- Counter: 딕셔너리 형태의 종류별 개수 파악\n",
        "#-- reduce: reduce(labda 누적인자,현재값:~, iterable 객체, 누적인자초기값)\n",
        "\n",
        "\n",
        "def solution1(clothes):\n",
        "  \n",
        "  d = dict()\n",
        "\n",
        "  # 해시 분류\n",
        "  for item, part in clothes:\n",
        "    d[part] = d.get(part, 0) + 1\n",
        "  print(d)\n",
        "\n",
        "  # 계산\n",
        "  answer = 1\n",
        "  for v in d.values():\n",
        "    answer *= (v + 1) \n",
        "\n",
        "  return answer - 1\n",
        "\n",
        "\n",
        "def solution2(clothes):\n",
        "  from collections import Counter\n",
        "  from functools import reduce\n",
        "\n",
        "  cnt = Counter([part for item, part in clothes])\n",
        "  answer = reduce(lambda acc, v: acc * (v + 1), cnt.values(), 1) - 1\n",
        "\n",
        "  return answer\n",
        "\n",
        "\n",
        "\n",
        "clothes = [['a1', 'a'], ['b1', 'b'], ['a2', 'a']]\n",
        "\n",
        "print(solution1(clothes))\n",
        "\n"
      ],
      "execution_count": null,
      "outputs": [
        {
          "output_type": "stream",
          "name": "stdout",
          "text": [
            "{'a': 2, 'b': 1}\n",
            "5\n"
          ]
        }
      ]
    },
    {
      "cell_type": "code",
      "metadata": {
        "colab": {
          "base_uri": "https://localhost:8080/"
        },
        "id": "PvxKl9oluZcS",
        "outputId": "3b6ccc1b-ebd9-4acd-c4f2-82aca9dffdcd"
      },
      "source": [
        "# 베스트앨범\n",
        "# 내 풀이\n",
        "\n",
        "genres = ['aa', 'bb', 'aa', 'aa', 'bb']\n",
        "plays = [500, 600, 150, 800, 2500]\n",
        "\n",
        "# 리스트 합치기 -> 리스트; 리스트 합치는 방법!!\n",
        "arr = list(zip(genres, plays), range(len(genres)))\n",
        "print(arr)\n",
        "\n",
        "# 리스트의 요소 더하기 -> 딕셔너리; 리스트 요소를 더하는 방법!!\n",
        "genre_dict = dict()\n",
        "for g, p in arr:\n",
        "  genre_dict[g] = genre_dict.get(g, 0) + p\n",
        "print(genre_dict)\n",
        "\n",
        "# 큰수로 정렬 -> 리스트; 딕셔너리를 정렬하는 방법!!\n",
        "genre_list = sorted(genre_dict.items(), key=lambda x: x[1], reverse=True)\n",
        "print(genre_list)\n",
        "\n",
        "arr2 = list(zip(genres, plays, range(len(genres))))\n",
        "print(arr2)\n",
        "list1 = sorted(arr2, key=lambda x:x[1], reverse=True)\n",
        "list2 = sorted(list1, key=lambda x:x[0])\n",
        "print(list1)\n",
        "print(list2)\n",
        "\n",
        "lll = []\n",
        "for g1, total1 in genre_list:\n",
        "  cnt = 0\n",
        "  for g2, p2, idx in list2:\n",
        "    if g1 == g2 and cnt < 2:\n",
        "      lll.append(idx)\n",
        "      cnt += 1\n",
        "\n",
        "print(lll)"
      ],
      "execution_count": null,
      "outputs": [
        {
          "output_type": "stream",
          "name": "stdout",
          "text": [
            "[('aa', 500), ('bb', 600), ('aa', 150), ('aa', 800), ('bb', 2500)]\n",
            "{'aa': 1450, 'bb': 3100}\n",
            "[('bb', 3100), ('aa', 1450)]\n",
            "[('aa', 500, 0), ('bb', 600, 1), ('aa', 150, 2), ('aa', 800, 3), ('bb', 2500, 4)]\n",
            "[('bb', 2500, 4), ('aa', 800, 3), ('bb', 600, 1), ('aa', 500, 0), ('aa', 150, 2)]\n",
            "[('aa', 800, 3), ('aa', 500, 0), ('aa', 150, 2), ('bb', 2500, 4), ('bb', 600, 1)]\n",
            "[4, 1, 3, 0]\n"
          ]
        }
      ]
    },
    {
      "cell_type": "code",
      "metadata": {
        "id": "2B1eRQi1-tAw"
      },
      "source": [
        "# 베스트 앨범\n",
        "# 다른 사람 풀이 (이걸 이해해야 함)\n",
        "\n",
        "def solution(genres, plays):\n",
        "    answer = []\n",
        "    d = {e:[] for e in set(genres)}\n",
        "    for e in zip(genres, plays, range(len(plays))):\n",
        "        d[e[0]].append([e[1] , e[2]])\n",
        "    genreSort =sorted(list(d.keys()), key= lambda x: sum( map(lambda y: y[0],d[x])), reverse = True)\n",
        "    for g in genreSort:\n",
        "        temp = [e[1] for e in sorted(d[g],key= lambda x: (x[0], -x[1]), reverse = True)]\n",
        "        answer += temp[:min(len(temp),2)]\n",
        "    return answer"
      ],
      "execution_count": null,
      "outputs": []
    }
  ]
}