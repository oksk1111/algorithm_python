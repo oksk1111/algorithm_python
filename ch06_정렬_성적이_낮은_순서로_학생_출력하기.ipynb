{
  "nbformat": 4,
  "nbformat_minor": 0,
  "metadata": {
    "colab": {
      "name": "ch06_정렬_성적이 낮은 순서로 학생 출력하기.ipynb",
      "provenance": [],
      "collapsed_sections": [],
      "authorship_tag": "ABX9TyOoAGMCRqQ32xk/D79TJehv",
      "include_colab_link": true
    },
    "kernelspec": {
      "name": "python3",
      "display_name": "Python 3"
    },
    "language_info": {
      "name": "python"
    }
  },
  "cells": [
    {
      "cell_type": "markdown",
      "metadata": {
        "id": "view-in-github",
        "colab_type": "text"
      },
      "source": [
        "<a href=\"https://colab.research.google.com/github/oksk1111/algorithm_python/blob/main/ch06_%EC%A0%95%EB%A0%AC_%EC%84%B1%EC%A0%81%EC%9D%B4_%EB%82%AE%EC%9D%80_%EC%88%9C%EC%84%9C%EB%A1%9C_%ED%95%99%EC%83%9D_%EC%B6%9C%EB%A0%A5%ED%95%98%EA%B8%B0.ipynb\" target=\"_parent\"><img src=\"https://colab.research.google.com/assets/colab-badge.svg\" alt=\"Open In Colab\"/></a>"
      ]
    },
    {
      "cell_type": "markdown",
      "metadata": {
        "id": "PV78vrLTNSYF"
      },
      "source": [
        "성적을 오름차순으로 출력\n",
        "\n",
        "입력예:\n",
        "\n",
        "2\n",
        "\n",
        "홍길동 95\n",
        "\n",
        "이순신 77\n",
        "\n",
        "\n",
        "출력예:\n",
        "\n",
        "이순신 홍길동"
      ]
    },
    {
      "cell_type": "code",
      "metadata": {
        "colab": {
          "base_uri": "https://localhost:8080/"
        },
        "id": "73TcRoCbNNcV",
        "outputId": "60b87d56-eee5-4c62-93da-678e0857017a"
      },
      "source": [
        "\n",
        "n = int(input())\n",
        "\n",
        "arr = []\n",
        "for _ in range(n):\n",
        "  students = input().split()\n",
        "  arr.append((students[0], int(students[1])))\n",
        "\n",
        "result = sorted(arr, key=lambda data: data[1])\n",
        "\n",
        "for student in result:\n",
        "  print(student[0], end=' ')"
      ],
      "execution_count": null,
      "outputs": [
        {
          "output_type": "stream",
          "name": "stdout",
          "text": [
            "2\n",
            "홍길동 95\n",
            "이순신 77\n",
            "이순신 홍길동 "
          ]
        }
      ]
    }
  ]
}