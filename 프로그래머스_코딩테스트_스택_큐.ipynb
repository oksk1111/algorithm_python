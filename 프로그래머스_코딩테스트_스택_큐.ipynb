{
  "nbformat": 4,
  "nbformat_minor": 0,
  "metadata": {
    "colab": {
      "name": "프로그래머스_코딩테스트_스택/큐.ipynb",
      "provenance": [],
      "collapsed_sections": [],
      "authorship_tag": "ABX9TyP0eZxv1KQK09YoovBD7ru5",
      "include_colab_link": true
    },
    "kernelspec": {
      "name": "python3",
      "display_name": "Python 3"
    },
    "language_info": {
      "name": "python"
    }
  },
  "cells": [
    {
      "cell_type": "markdown",
      "metadata": {
        "id": "view-in-github",
        "colab_type": "text"
      },
      "source": [
        "<a href=\"https://colab.research.google.com/github/oksk1111/algorithm_python/blob/main/%ED%94%84%EB%A1%9C%EA%B7%B8%EB%9E%98%EB%A8%B8%EC%8A%A4_%EC%BD%94%EB%94%A9%ED%85%8C%EC%8A%A4%ED%8A%B8_%EC%8A%A4%ED%83%9D_%ED%81%90.ipynb\" target=\"_parent\"><img src=\"https://colab.research.google.com/assets/colab-badge.svg\" alt=\"Open In Colab\"/></a>"
      ]
    },
    {
      "cell_type": "markdown",
      "metadata": {
        "id": "mwUeNZQoXJZs"
      },
      "source": [
        "기능개발\n",
        "\n",
        "progresses 에서 나머지 진척율을 구하라. 시간은 병행 처리 되나 앞단계가 끝나야 뒤진행도 함께 끝난다. 이때 스탭당 한번에 끝낸 일의 개수를 구하라\n",
        "\n",
        "progresses = [93, 30, 55], [95, 90, 99, 99, 80, 99]\n",
        "\n",
        "speeds = [1, 30, 5], [1, 1, 1, 1, 1, 1]\n",
        "\n",
        "answer = [2, 1], [1, 3, 2]"
      ]
    },
    {
      "cell_type": "code",
      "metadata": {
        "colab": {
          "base_uri": "https://localhost:8080/"
        },
        "id": "aq6WB3m_XFzH",
        "outputId": "c5163374-02a8-49a8-8579-96a14d7a6649"
      },
      "source": [
        "# 다른 사람 풀이 참고\n",
        "#- 앞의 항목들을 어떻게 소진해야 하나 고민이었는데 추가하는 데이터를 total 로 묶어서 index로 바로 계산해 버림...\n",
        "\n",
        "import math\n",
        "def solution(progresses, speeds):\n",
        "\n",
        "  progresses = [math.ceil((100 - a) / b) for a, b in zip(progresses, speeds)]\n",
        "  #print(progresses)\n",
        "\n",
        "  answer = []\n",
        "  front = 0\n",
        "\n",
        "  for i in range(len(progresses)):\n",
        "    if progresses[i] > progresses[front]:\n",
        "      answer.append(i - front)\n",
        "      front = i\n",
        "\n",
        "  answer.append(len(progresses) - front)\n",
        "\n",
        "  return answer\n",
        "\n",
        "\n",
        "print(solution([93, 30, 55], [1, 30, 5]))"
      ],
      "execution_count": null,
      "outputs": [
        {
          "output_type": "stream",
          "name": "stdout",
          "text": [
            "[2, 1]\n"
          ]
        }
      ]
    },
    {
      "cell_type": "code",
      "metadata": {
        "id": "SbX61cPfZozP"
      },
      "source": [
        "# 다른 사람 풀이 2\n",
        "#- 아직 이해는 안감\n",
        "\n",
        "def solution(progresses, speeds):\n",
        "    Q=[]\n",
        "    for p, s in zip(progresses, speeds):\n",
        "        if len(Q)==0 or Q[-1][0]<-((p-100)//s):\n",
        "            Q.append([-((p-100)//s),1])\n",
        "        else:\n",
        "            Q[-1][1]+=1\n",
        "    return [q[1] for q in Q]"
      ],
      "execution_count": null,
      "outputs": []
    }
  ]
}