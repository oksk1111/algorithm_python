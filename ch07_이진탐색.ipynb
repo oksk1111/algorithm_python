{
  "nbformat": 4,
  "nbformat_minor": 0,
  "metadata": {
    "colab": {
      "name": "ch07_이진탐색.ipynb",
      "provenance": [],
      "collapsed_sections": [],
      "authorship_tag": "ABX9TyOEoXMbfDXWufpf+f5kL4ED",
      "include_colab_link": true
    },
    "kernelspec": {
      "name": "python3",
      "display_name": "Python 3"
    },
    "language_info": {
      "name": "python"
    }
  },
  "cells": [
    {
      "cell_type": "markdown",
      "metadata": {
        "id": "view-in-github",
        "colab_type": "text"
      },
      "source": [
        "<a href=\"https://colab.research.google.com/github/oksk1111/algorithm_python/blob/main/ch07_%EC%9D%B4%EC%A7%84%ED%83%90%EC%83%89.ipynb\" target=\"_parent\"><img src=\"https://colab.research.google.com/assets/colab-badge.svg\" alt=\"Open In Colab\"/></a>"
      ]
    },
    {
      "cell_type": "markdown",
      "metadata": {
        "id": "slns7Rg_YwvG"
      },
      "source": [
        "입력예:\n",
        "\n",
        "10 7  # n = 전체 아이템개수, target = 찾는 아이템\n",
        "\n",
        "1 3 5 7 9 11 13 15 17 19\n",
        "\n",
        "\n",
        "출력예:\n",
        "\n",
        "4"
      ]
    },
    {
      "cell_type": "code",
      "metadata": {
        "colab": {
          "base_uri": "https://localhost:8080/"
        },
        "id": "JwGLsSC8YmR8",
        "outputId": "6975fa76-78d6-44dc-ea27-6f27ed594d50"
      },
      "source": [
        "# 재귀함수로 구현한 이진탐색\n",
        "\n",
        "def binary_search(array, target, start, end):\n",
        "  if start > end:\n",
        "    return None\n",
        "\n",
        "  mid = (start + end) // 2\n",
        "  if array[mid] == target:\n",
        "    return mid\n",
        "  elif array[mid] > target:\n",
        "    return binary_search(array, target, start, mid - 1)\n",
        "  else:\n",
        "    return binary_search(array, target, mid + 1, end)\n",
        "\n",
        "\n",
        "n, target = map(int, input().split())\n",
        "arr = list(map(int, input().split()))\n",
        "\n",
        "result = binary_search(arr, target, 0, n-1)\n",
        "print(result + 1)"
      ],
      "execution_count": null,
      "outputs": [
        {
          "output_type": "stream",
          "name": "stdout",
          "text": [
            "10 7\n",
            "1 3 5 7 9 11 13 15 17 19\n",
            "3\n"
          ]
        }
      ]
    },
    {
      "cell_type": "code",
      "metadata": {
        "colab": {
          "base_uri": "https://localhost:8080/"
        },
        "id": "xRvD_YMmbErf",
        "outputId": "0db3002a-e323-4bf7-cee8-a364b81d8386"
      },
      "source": [
        "# 반복문으로 구현한 이진탐색\n",
        "\n",
        "def binary_search(array, target, start, end):\n",
        "  while start <= end:\n",
        "    mid = (start + end) // 2\n",
        "\n",
        "    if array[mid] == target:\n",
        "      return mid\n",
        "    elif array[mid] > target:\n",
        "      end = mid - 1\n",
        "    else:\n",
        "      start = mid + 1\n",
        "\n",
        "  return None\n",
        "\n",
        "\n",
        "n, target = map(int, input().split())\n",
        "arr = list(map(int, input().split()))\n",
        "\n",
        "result = binary_search(arr, target, 0, n-1)\n",
        "print(result + 1)"
      ],
      "execution_count": null,
      "outputs": [
        {
          "output_type": "stream",
          "name": "stdout",
          "text": [
            "10 7\n",
            "1 3 5 7 9 11 13 15 17 19\n",
            "4\n"
          ]
        }
      ]
    }
  ]
}