{
  "nbformat": 4,
  "nbformat_minor": 0,
  "metadata": {
    "colab": {
      "name": "codility_Arrays_OddOccurrencesInArray.ipynb",
      "provenance": [],
      "collapsed_sections": [],
      "authorship_tag": "ABX9TyNQnEO4sVNzVLbeDxEdinUp",
      "include_colab_link": true
    },
    "kernelspec": {
      "name": "python3",
      "display_name": "Python 3"
    },
    "language_info": {
      "name": "python"
    }
  },
  "cells": [
    {
      "cell_type": "markdown",
      "metadata": {
        "id": "view-in-github",
        "colab_type": "text"
      },
      "source": [
        "<a href=\"https://colab.research.google.com/github/oksk1111/algorithm_python/blob/main/codility_Arrays_OddOccurrencesInArray.ipynb\" target=\"_parent\"><img src=\"https://colab.research.google.com/assets/colab-badge.svg\" alt=\"Open In Colab\"/></a>"
      ]
    },
    {
      "cell_type": "markdown",
      "source": [
        "A[0] = 9  A[1] = 3  A[2] = 9 <br>\n",
        "  A[3] = 3  A[4] = 9  A[5] = 7 <br>\n",
        "  A[6] = 9 <br>\n",
        "\n",
        "문제 에러 케이스가 있다. 설명하진 않았다 <br>\n",
        "- A 길이가 한개인 경우\n",
        "- 마지막항이 짝이 안맞을 경우"
      ],
      "metadata": {
        "id": "nNJps753AoOV"
      }
    },
    {
      "cell_type": "code",
      "execution_count": 8,
      "metadata": {
        "colab": {
          "base_uri": "https://localhost:8080/"
        },
        "id": "VZhdPCxUadvu",
        "outputId": "14cae840-d8e4-4fba-b5df-a8d23a324647"
      },
      "outputs": [
        {
          "output_type": "execute_result",
          "data": {
            "text/plain": [
              "7"
            ]
          },
          "metadata": {},
          "execution_count": 8
        }
      ],
      "source": [
        "def solution(A):\n",
        "    #- Time out\n",
        "    # for i in A:\n",
        "    #     if A.count(i) % 2 == 1:\n",
        "    #         return i\n",
        "\n",
        "    #- Time out\n",
        "    # while A:\n",
        "    #     if A.count(A[0]) % 2 == 0:\n",
        "    #         A = [i for i in A if i != A[0]]\n",
        "    #     else:\n",
        "    #         return A[0]\n",
        "\n",
        "    if len(A) == 1:\n",
        "        return A[0]\n",
        "\n",
        "    A.sort()\n",
        "    for i in range(0, len(A)-1, 2):\n",
        "        if A[i] != A[i+1]:\n",
        "            return A[i]\n",
        "\n",
        "    return A[-1]\n",
        "\n",
        "\n",
        "solution([9,3,9,3,9,7,9])"
      ]
    },
    {
      "cell_type": "code",
      "source": [
        "# test\n",
        "\n",
        "A = [1,2,3,4,5]\n",
        "\n",
        "A[-1]"
      ],
      "metadata": {
        "colab": {
          "base_uri": "https://localhost:8080/"
        },
        "id": "5Ad_yDdqJa3u",
        "outputId": "cf3fcd88-70fc-4364-e279-daa50e7cdefa"
      },
      "execution_count": 7,
      "outputs": [
        {
          "output_type": "execute_result",
          "data": {
            "text/plain": [
              "5"
            ]
          },
          "metadata": {},
          "execution_count": 7
        }
      ]
    }
  ]
}