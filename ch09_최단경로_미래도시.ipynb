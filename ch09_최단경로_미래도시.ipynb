{
  "nbformat": 4,
  "nbformat_minor": 0,
  "metadata": {
    "colab": {
      "name": "ch09_최단경로_미래도시.ipynb",
      "provenance": [],
      "collapsed_sections": [],
      "authorship_tag": "ABX9TyNOFw9jK9i4CooQQhfk/TNG",
      "include_colab_link": true
    },
    "kernelspec": {
      "name": "python3",
      "display_name": "Python 3"
    },
    "language_info": {
      "name": "python"
    }
  },
  "cells": [
    {
      "cell_type": "markdown",
      "metadata": {
        "id": "view-in-github",
        "colab_type": "text"
      },
      "source": [
        "<a href=\"https://colab.research.google.com/github/oksk1111/algorithm_python/blob/main/ch09_%EC%B5%9C%EB%8B%A8%EA%B2%BD%EB%A1%9C_%EB%AF%B8%EB%9E%98%EB%8F%84%EC%8B%9C.ipynb\" target=\"_parent\"><img src=\"https://colab.research.google.com/assets/colab-badge.svg\" alt=\"Open In Colab\"/></a>"
      ]
    },
    {
      "cell_type": "markdown",
      "metadata": {
        "id": "3JihJrVZlVnC"
      },
      "source": [
        "경유경로 k 를 포함해 start 에서 end 까지 가장 빨리 가는 방법은\n",
        "\n",
        "입력예:\n",
        "\n",
        "5 7  # n = 노드개수, m = edges\n",
        "\n",
        "1 2\n",
        "\n",
        "1 3\n",
        "\n",
        "1 4\n",
        "\n",
        "2 4\n",
        "\n",
        "3 4\n",
        "\n",
        "3 5\n",
        "\n",
        "4 5\n",
        "\n",
        "4 5  # x = 목적지, k = 경유지\n",
        "\n",
        "출력예:\n",
        "\n",
        "3\n",
        "\n",
        "(결과 없으면 -1)"
      ]
    },
    {
      "cell_type": "code",
      "metadata": {
        "colab": {
          "base_uri": "https://localhost:8080/"
        },
        "id": "9UmQw8gelPAW",
        "outputId": "a98f66a0-f4bf-4a49-dd4a-2db93a8a5d0b"
      },
      "source": [
        "\n",
        "INF = int(1e9)\n",
        "\n",
        "n, m = map(int, input().split())\n",
        "graph = [[INF] * (n + 1) for _ in range(n + 1)]   # 2x2 배열의 값을 INF 로 초기화\n",
        "\n",
        "for a in range(1, n+1):   # 대각선 값 0으로 초기화; 자기자신은 거리 0\n",
        "  graph[a][a] = 0\n",
        "\n",
        "for _ in range(m):    # 간선 입력\n",
        "  a, b = map(int, input().split())\n",
        "  graph[a][b] = 1\n",
        "  graph[b][a] = 1     # 중요\n",
        "\n",
        "x, k = map(int, input().split())    # 목적지, 경유지\n",
        "\n",
        "# 플루이드 워셜 알고리즘1 \n",
        "for kk in range(1, n + 1):\n",
        "  for a in range(1, n + 1):\n",
        "    for b in range(1, n + 1):\n",
        "      graph[a][b] = min(graph[a][b], graph[a][kk] + graph[kk][b])\n",
        "\n",
        "result = graph[1][k] + graph[k][x]\n",
        "\n",
        "if result >= INF:\n",
        "  print('-1')\n",
        "else:\n",
        "  print(result)\n"
      ],
      "execution_count": null,
      "outputs": [
        {
          "output_type": "stream",
          "name": "stdout",
          "text": [
            "4 2\n",
            "1 3\n",
            "2 4\n",
            "3 4\n",
            "-1\n"
          ]
        }
      ]
    }
  ]
}