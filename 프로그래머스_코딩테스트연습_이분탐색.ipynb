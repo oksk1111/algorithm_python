{
  "nbformat": 4,
  "nbformat_minor": 0,
  "metadata": {
    "colab": {
      "name": "프로그래머스_코딩테스트연습_이분탐색.ipynb",
      "provenance": [],
      "collapsed_sections": [],
      "authorship_tag": "ABX9TyNDz/dxCm3Jcpm1PK0PAbUn",
      "include_colab_link": true
    },
    "kernelspec": {
      "name": "python3",
      "display_name": "Python 3"
    },
    "language_info": {
      "name": "python"
    }
  },
  "cells": [
    {
      "cell_type": "markdown",
      "metadata": {
        "id": "view-in-github",
        "colab_type": "text"
      },
      "source": [
        "<a href=\"https://colab.research.google.com/github/oksk1111/algorithm_python/blob/main/%ED%94%84%EB%A1%9C%EA%B7%B8%EB%9E%98%EB%A8%B8%EC%8A%A4_%EC%BD%94%EB%94%A9%ED%85%8C%EC%8A%A4%ED%8A%B8%EC%97%B0%EC%8A%B5_%EC%9D%B4%EB%B6%84%ED%83%90%EC%83%89.ipynb\" target=\"_parent\"><img src=\"https://colab.research.google.com/assets/colab-badge.svg\" alt=\"Open In Colab\"/></a>"
      ]
    },
    {
      "cell_type": "markdown",
      "metadata": {
        "id": "ZKqZXwtMpSyp"
      },
      "source": [
        "입국 심사\n",
        "\n",
        "n = 6, times = [7, 10], return = 28\n",
        "\n",
        "times 의 항목으로 n을 모두 소진할 수 있는 최소시간은?\n",
        "\n"
      ]
    },
    {
      "cell_type": "code",
      "metadata": {
        "colab": {
          "base_uri": "https://localhost:8080/"
        },
        "id": "momAqb4BpNm8",
        "outputId": "a484f156-1c72-4bbf-b816-44f63b56218a"
      },
      "source": [
        "# 나의 코드\n",
        "\n",
        "def solution(n, times):\n",
        "  start = 0\n",
        "  end = n * max(times)\n",
        "\n",
        "  while start <= end:\n",
        "    mid = (start + end) // 2\n",
        "\n",
        "    cnt = 0\n",
        "    for t in times:\n",
        "      cnt += mid // t\n",
        "\n",
        "    if cnt >= n:\n",
        "      answer = mid\n",
        "      end = mid - 1\n",
        "    elif cnt < n:\n",
        "      start = mid + 1\n",
        "\n",
        "  return start\n",
        "\n",
        "\n",
        "print(solution(6, [7, 10]))"
      ],
      "execution_count": null,
      "outputs": [
        {
          "output_type": "stream",
          "name": "stdout",
          "text": [
            "28\n"
          ]
        }
      ]
    },
    {
      "cell_type": "code",
      "metadata": {
        "colab": {
          "base_uri": "https://localhost:8080/"
        },
        "id": "xGdzOnL3rfSx",
        "outputId": "5df9c335-16d8-4b04-cba1-782c3c420cdf"
      },
      "source": [
        "# 두번째 버전\n",
        "\n",
        "def solution(n, times):\n",
        "  total_time = [t * i for t in times for i in range(1, n+1)]\n",
        "\n",
        "  total_time.sort()\n",
        "  print(total_time)\n",
        "\n",
        "  start = 0\n",
        "  end = len(total_time)\n",
        "\n",
        "  while start <= end:\n",
        "    mid = (start + end) // 2\n",
        "    mid_time = total_time[mid]\n",
        "\n",
        "    cnt = 0\n",
        "    for t in times:\n",
        "      cnt += mid_time // t\n",
        "\n",
        "    if cnt >= n:\n",
        "      answer = mid_time\n",
        "      end = mid - 1\n",
        "    elif cnt < n:\n",
        "      start = mid + 1\n",
        "\n",
        "  return 0\n",
        "  \n",
        "\n",
        "print(solution(6, [7, 10]))"
      ],
      "execution_count": null,
      "outputs": [
        {
          "output_type": "stream",
          "name": "stdout",
          "text": [
            "[7, 10, 14, 20, 21, 28, 30, 35, 40, 42, 50, 60]\n",
            "0 12\n",
            "28\n"
          ]
        }
      ]
    }
  ]
}