{
  "nbformat": 4,
  "nbformat_minor": 0,
  "metadata": {
    "colab": {
      "name": "ch03_그리디_1이 될 때까지.ipynb",
      "provenance": [],
      "collapsed_sections": [],
      "authorship_tag": "ABX9TyPGYIfnNBQrG1CiYxMx271k",
      "include_colab_link": true
    },
    "kernelspec": {
      "name": "python3",
      "display_name": "Python 3"
    },
    "language_info": {
      "name": "python"
    }
  },
  "cells": [
    {
      "cell_type": "markdown",
      "metadata": {
        "id": "view-in-github",
        "colab_type": "text"
      },
      "source": [
        "<a href=\"https://colab.research.google.com/github/oksk1111/algorithm_python/blob/main/ch03_%EA%B7%B8%EB%A6%AC%EB%94%94_1%EC%9D%B4_%EB%90%A0_%EB%95%8C%EA%B9%8C%EC%A7%80.ipynb\" target=\"_parent\"><img src=\"https://colab.research.google.com/assets/colab-badge.svg\" alt=\"Open In Colab\"/></a>"
      ]
    },
    {
      "cell_type": "markdown",
      "metadata": {
        "id": "gNFoyoOq7fMG"
      },
      "source": [
        "n을 k로 나누어 떨어지면 나누고, 아니면 -1 할때 총 계산횟수\n",
        "\n",
        "입력예:\n",
        "\n",
        "25 5\n",
        "\n",
        "결과:\n",
        "2"
      ]
    },
    {
      "cell_type": "code",
      "metadata": {
        "colab": {
          "base_uri": "https://localhost:8080/"
        },
        "id": "h-uhQA4_4pTF",
        "outputId": "e0be36fe-5afb-4a9e-ef50-2c80543c5845"
      },
      "source": [
        "\n",
        "n, k = map(int, input().split())\n",
        "tn = n\n",
        "cnt = 0\n",
        "\n",
        "while True:\n",
        "  if tn == 1:\n",
        "    break\n",
        "\n",
        "  if tn % k == 0:\n",
        "    tn //= k\n",
        "  else:\n",
        "    tn -= 1\n",
        "\n",
        "  cnt +=1\n",
        "\n",
        "print(cnt)"
      ],
      "execution_count": null,
      "outputs": [
        {
          "output_type": "stream",
          "name": "stdout",
          "text": [
            "17 4\n",
            "3\n"
          ]
        }
      ]
    }
  ]
}