{
  "nbformat": 4,
  "nbformat_minor": 0,
  "metadata": {
    "colab": {
      "name": "codility_demo_MissingInteger.ipynb",
      "provenance": [],
      "collapsed_sections": [],
      "authorship_tag": "ABX9TyP2UyUk7wFQEj1KyP+SBWIv",
      "include_colab_link": true
    },
    "kernelspec": {
      "name": "python3",
      "display_name": "Python 3"
    },
    "language_info": {
      "name": "python"
    }
  },
  "cells": [
    {
      "cell_type": "markdown",
      "metadata": {
        "id": "view-in-github",
        "colab_type": "text"
      },
      "source": [
        "<a href=\"https://colab.research.google.com/github/oksk1111/algorithm_python/blob/main/codility_demo_MissingInteger.ipynb\" target=\"_parent\"><img src=\"https://colab.research.google.com/assets/colab-badge.svg\" alt=\"Open In Colab\"/></a>"
      ]
    },
    {
      "cell_type": "code",
      "execution_count": null,
      "metadata": {
        "colab": {
          "base_uri": "https://localhost:8080/"
        },
        "id": "JsRTHENIYdI-",
        "outputId": "e18e37da-fd6d-4887-b542-ca03f59cda41"
      },
      "outputs": [
        {
          "output_type": "stream",
          "name": "stdout",
          "text": [
            "1\n"
          ]
        }
      ],
      "source": [
        "# returns the smallest positive integer\n",
        "# A = [1,2,3], return 4\n",
        "# A = [-1,-3], return 1\n",
        "\n",
        "def solution(A):\n",
        "  A.sort()\n",
        "  min = 1\n",
        "  for i in A:\n",
        "    if i == min:\n",
        "      min += 1\n",
        "    \n",
        "  return min\n",
        "\n",
        "\n",
        "A = [-1, -3]\n",
        "print(solution(A))"
      ]
    }
  ]
}