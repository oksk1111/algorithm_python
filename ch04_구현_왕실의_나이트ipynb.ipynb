{
  "nbformat": 4,
  "nbformat_minor": 0,
  "metadata": {
    "colab": {
      "name": "ch04_구현_왕실의 나이트ipynb",
      "provenance": [],
      "collapsed_sections": [],
      "authorship_tag": "ABX9TyNfLuDRdIqrpM8W9knLzWSW",
      "include_colab_link": true
    },
    "kernelspec": {
      "name": "python3",
      "display_name": "Python 3"
    },
    "language_info": {
      "name": "python"
    }
  },
  "cells": [
    {
      "cell_type": "markdown",
      "metadata": {
        "id": "view-in-github",
        "colab_type": "text"
      },
      "source": [
        "<a href=\"https://colab.research.google.com/github/oksk1111/algorithm_python/blob/main/ch04_%EA%B5%AC%ED%98%84_%EC%99%95%EC%8B%A4%EC%9D%98_%EB%82%98%EC%9D%B4%ED%8A%B8ipynb.ipynb\" target=\"_parent\"><img src=\"https://colab.research.google.com/assets/colab-badge.svg\" alt=\"Open In Colab\"/></a>"
      ]
    },
    {
      "cell_type": "markdown",
      "metadata": {
        "id": "2DsaGlr4kfkq"
      },
      "source": [
        "체스판의 현 위치에서 나이트가 이동할 수 있는 경로 갯수\n",
        "\n",
        "\n",
        "입력예:\n",
        "\n",
        "a1\n",
        "\n",
        "\n",
        "출력예:\n",
        "\n",
        "2"
      ]
    },
    {
      "cell_type": "code",
      "metadata": {
        "id": "_BDEFcQYS6AB"
      },
      "source": [
        ""
      ],
      "execution_count": null,
      "outputs": []
    },
    {
      "cell_type": "code",
      "metadata": {
        "colab": {
          "base_uri": "https://localhost:8080/"
        },
        "id": "S4z2EDZBoLVU",
        "outputId": "d4f2840c-6fe6-40da-95bd-f800e15447ec"
      },
      "source": [
        "help(ord)"
      ],
      "execution_count": null,
      "outputs": [
        {
          "output_type": "stream",
          "name": "stdout",
          "text": [
            "Help on built-in function ord in module builtins:\n",
            "\n",
            "ord(c, /)\n",
            "    Return the Unicode code point for a one-character string.\n",
            "\n"
          ]
        }
      ]
    },
    {
      "cell_type": "code",
      "metadata": {
        "colab": {
          "base_uri": "https://localhost:8080/",
          "height": 139
        },
        "id": "klOJ7Hs-otnW",
        "outputId": "33b78fcc-4b6b-4176-ca15-5ff72027ee6c"
      },
      "source": [
        "x, y = 0, 0\n",
        "x, y += 1   # NG\n",
        "x, y += (1, 1)  # NG"
      ],
      "execution_count": null,
      "outputs": [
        {
          "output_type": "error",
          "ename": "SyntaxError",
          "evalue": "ignored",
          "traceback": [
            "\u001b[0;36m  File \u001b[0;32m\"<ipython-input-4-75eeb317c2e2>\"\u001b[0;36m, line \u001b[0;32m2\u001b[0m\n\u001b[0;31m    x, y += 1\u001b[0m\n\u001b[0m             ^\u001b[0m\n\u001b[0;31mSyntaxError\u001b[0m\u001b[0;31m:\u001b[0m illegal expression for augmented assignment\n"
          ]
        }
      ]
    },
    {
      "cell_type": "code",
      "metadata": {
        "colab": {
          "base_uri": "https://localhost:8080/"
        },
        "id": "9ekU3FpgkaNV",
        "outputId": "9ee8cc86-d9e3-4cfb-9068-bb7e9995d202"
      },
      "source": [
        "\n",
        "pos = input()\n",
        "x = ord(pos[0]) - ord('a') + 1    # ord() 문자를 아스키값으로; chr() 아스키값을 문자로\n",
        "y = int(pos[1])\n",
        "\n",
        "steps = [(-2, -1), (-1, -2), (1, -2), (2, -1), (-2, 1), (-1, 2), (1, 2), (2, 1)]\n",
        "cnt = 0\n",
        "\n",
        "for step in steps:\n",
        "  tx, ty = x, y\n",
        "\n",
        "  tx += step[0]\n",
        "  ty += step[1]\n",
        "\n",
        "  if 0 < tx <= 8 and 0 < ty <= 8:\n",
        "    cnt += 1\n",
        "\n",
        "print(cnt)"
      ],
      "execution_count": null,
      "outputs": [
        {
          "output_type": "stream",
          "name": "stdout",
          "text": [
            "c2\n",
            "6\n"
          ]
        }
      ]
    }
  ]
}