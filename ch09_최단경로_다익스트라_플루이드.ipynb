{
  "nbformat": 4,
  "nbformat_minor": 0,
  "metadata": {
    "colab": {
      "name": "ch09_최단경로_다익스트라_플루이드.ipynb",
      "provenance": [],
      "collapsed_sections": [],
      "authorship_tag": "ABX9TyO/dgyXjQKto087djkNzVsw",
      "include_colab_link": true
    },
    "kernelspec": {
      "name": "python3",
      "display_name": "Python 3"
    },
    "language_info": {
      "name": "python"
    }
  },
  "cells": [
    {
      "cell_type": "markdown",
      "metadata": {
        "id": "view-in-github",
        "colab_type": "text"
      },
      "source": [
        "<a href=\"https://colab.research.google.com/github/oksk1111/algorithm_python/blob/main/ch09_%EC%B5%9C%EB%8B%A8%EA%B2%BD%EB%A1%9C_%EB%8B%A4%EC%9D%B5%EC%8A%A4%ED%8A%B8%EB%9D%BC_%ED%94%8C%EB%A3%A8%EC%9D%B4%EB%93%9C.ipynb\" target=\"_parent\"><img src=\"https://colab.research.google.com/assets/colab-badge.svg\" alt=\"Open In Colab\"/></a>"
      ]
    },
    {
      "cell_type": "code",
      "metadata": {
        "colab": {
          "base_uri": "https://localhost:8080/"
        },
        "id": "oFOaNV4ONriN",
        "outputId": "72db178f-286d-4189-ea87-53e8fd6419a1"
      },
      "source": [
        "#import sys\n",
        "#input = sys.stdin.readline   # colab 에서는 안됨\n",
        "INF = int(1e9)\n",
        "\n",
        "# 노드의 개수, 간선의 개수\n",
        "n, m = map(int, input().split())\n",
        "\n",
        "# 시작 노드\n",
        "start = int(input())\n",
        "\n",
        "# 노드 정보\n",
        "graph = [[] for i in range(n+1)]\n",
        "\n",
        "# 방문했는지 판단 배열\n",
        "visited = [False] * (n + 1)\n",
        "\n",
        "# 최단거리 테이블 초기화\n",
        "distance = [INF] * (n + 1)\n",
        "\n",
        "# 모든 간선 정보 입력\n",
        "for _ in range(m):\n",
        "  a, b, c = map(int, input().split())   # from a to b, cost = c\n",
        "  graph[a].append((b, c))\n",
        "\n",
        "# 방문하지 않은 노드 중에서, 가장 최단 거리가 짧은 노드의 번호를 반환\n",
        "def get_smallest_node():\n",
        "  min_value = INF\n",
        "  index = 0   # 가장 최단 거리가 짧은 노드 인덱스\n",
        "  for i in range(1, n + 1):\n",
        "    if distance[i] < min_value and not visited[i]:\n",
        "      min_value = distance[i]\n",
        "      index = i\n",
        "\n",
        "  return index\n",
        "\n",
        "def dijkstra(start):\n",
        "  # 시작 노드에 대해서 초기화\n",
        "  distance[start] = 0\n",
        "  visited[start] = True\n",
        "  for j in graph[start]:\n",
        "    distance[j[0]] = j[1]   # j[0] = 'to' index, j[1] = cost\n",
        "  # 시작 노드를 제외한 전체 n-1개의 노드에 대해 반복\n",
        "  for i in range(n-1):\n",
        "    # 현재 최단 거리가 가장 짧은 노드를 꺼내서, 방문 처리\n",
        "    now = get_smallest_node()\n",
        "    visited[now] = True\n",
        "\n",
        "    # 현재 노드와 연결된 다른 노드를 확인\n",
        "    for j in graph[now]:\n",
        "      cost = distance[now] + j[1]\n",
        "      # 현재 노드를 거쳐서 다른 노드로 이동하는 거리가 더 짧은 경우\n",
        "      if cost < distance[j[0]]:\n",
        "        distance[j[0]] = cost\n",
        "\n",
        "\n",
        "# 다익스트라 알고리즘 수행\n",
        "dijkstra(start)\n",
        "\n",
        "# 모든 노드로 가기 위한 최단 거리를 출력\n",
        "for i in range(1, n + 1):\n",
        "  # 도달할 수 없는 경우, 무한(INF)으로 출력\n",
        "  if distance[i] == INF:\n",
        "    print('INF')\n",
        "  # 도달할 수 있는 경우 거리 출력\n",
        "  else:\n",
        "    print(distance[i])\n"
      ],
      "execution_count": null,
      "outputs": [
        {
          "output_type": "stream",
          "name": "stdout",
          "text": [
            "6 11\n",
            "1\n",
            "1 2 2\n",
            "1 3 5\n",
            "1 4 1\n",
            "2 3 3\n",
            "2 4 2\n",
            "3 2 3\n",
            "3 6 5\n",
            "4 3 3\n",
            "4 5 1\n",
            "5 3 1\n",
            "5 6 2\n",
            "0\n",
            "2\n",
            "3\n",
            "1\n",
            "2\n",
            "4\n"
          ]
        }
      ]
    },
    {
      "cell_type": "code",
      "metadata": {
        "colab": {
          "base_uri": "https://localhost:8080/"
        },
        "id": "Sg50xlbTOjwM",
        "outputId": "3975b2ed-bfcc-4bc6-ff7e-d7f3600d0c6b"
      },
      "source": [
        "# 개선된 다익스트라; 우선순위큐 이용 (항상 거리가 짧은 노드가 앞에 있다.)\n",
        "\n",
        "import heapq\n",
        "INF = int(1e9)\n",
        "\n",
        "n, m = map(int, input().split())    # 노드개수, 간선개수\n",
        "start = int(input())\n",
        "graph = [[] for _ in range(n + 1)]    # 각노드에 연결된 간선을 저장. 인덱스 0 제외\n",
        "distance = [INF] * (n + 1)\n",
        "\n",
        "for _ in range(m):\n",
        "  a, b, c = map(int, input().split())   # from a to b, dist = c\n",
        "  graph[a].append((b, c))\n",
        "\n",
        "\n",
        "def dijkstra(start):\n",
        "  q = []\n",
        "\n",
        "  # 시작노드로 가기 위한 최단 경로는 0으로 설정하여, 큐에 삽입\n",
        "  heapq.heappush(q, (0, start))     # (dist, 'to' node)\n",
        "  distance[start] = 0\n",
        "\n",
        "  while q:\n",
        "    # 가장 최단 거리가 짧은 노드에 대한 정보 꺼내기\n",
        "    dist, now = heapq.heappop(q)\n",
        "    # 현재 노드가 이미 처리된 적이 있는 노드라면 무시\n",
        "    if distance[now] < dist:\n",
        "      continue\n",
        "    # 현재 노드와 연결된 다른 인접한 노드들을 확인\n",
        "    for i in graph[now]:\n",
        "      cost = dist + i[1]    # i[0] = 연결된노드, i[1] = dist\n",
        "      # 현재 노드를 거쳐서, 다른 노드로 이동하는 거리가 더 짧은 경우\n",
        "      if cost < distance[i[0]]:\n",
        "        distance[i[0]] = cost\n",
        "        heapq.heappush(q, (cost, i[0]))\n",
        "\n",
        "\n",
        "dijkstra(start)\n",
        "\n",
        "for i in range(1, n+1):\n",
        "  if distance[i] == INF:\n",
        "    print('INF')\n",
        "  else:\n",
        "    print(distance[i])"
      ],
      "execution_count": null,
      "outputs": [
        {
          "output_type": "stream",
          "name": "stdout",
          "text": [
            "6 11\n",
            "1\n",
            "1 2 2\n",
            "1 3 5\n",
            "1 4 1\n",
            "2 3 3\n",
            "2 4 2\n",
            "3 2 3\n",
            "3 6 5\n",
            "4 3 3\n",
            "4 5 1\n",
            "5 3 1\n",
            "5 6 2\n",
            "0\n",
            "2\n",
            "3\n",
            "1\n",
            "2\n",
            "4\n"
          ]
        }
      ]
    },
    {
      "cell_type": "code",
      "metadata": {
        "colab": {
          "base_uri": "https://localhost:8080/"
        },
        "id": "OVsHnWjEdDlu",
        "outputId": "c47eb1fe-7b80-4b7d-f050-6e3dec388b7f"
      },
      "source": [
        "# 플루이드 워셜\n",
        "\n",
        "INF = int(1e9)\n",
        "\n",
        "# 노드의 개수 및 간선의 개수를 입력받기\n",
        "n, m = map(int, input().split())\n",
        "\n",
        "# 2차원 리스트(그래프 표현)를 만들고, 모든 값을 무한으로 초기화\n",
        "graph = [[INF] * (n + 1) for _ in range(n + 1)]\n",
        "\n",
        "# 자기 자신에게 자기 자신으로 가는 비용은 0으로 초기화\n",
        "for a in range(1, n+1):\n",
        "    graph[a][a] = 0\n",
        "\n",
        "# 각 간선에 대한 정보를 입력받아, 그 값으로 초기화\n",
        "for _ in range(m):\n",
        "  a, b, c = map(int, input().split())   # from a to b, cost = c\n",
        "  graph[a][b] = c\n",
        "\n",
        "# 점화식에 따라 플루이드 워셜 알고리즘을 수행\n",
        "for k in range(1, n + 1):\n",
        "  for a in range(1, n + 1):\n",
        "    for b in range(1, n + 1):\n",
        "      graph[a][b] = min(graph[a][b], graph[a][k] + graph[k][b])\n",
        "\n",
        "# 수행된 결과 출력\n",
        "for a in range(1, n + 1):\n",
        "  for b in range(1, n + 1):\n",
        "    if graph[a][b] == INF:\n",
        "      print('INF')\n",
        "    else:\n",
        "      print(graph[a][b], end=' ')\n",
        "  print()"
      ],
      "execution_count": null,
      "outputs": [
        {
          "output_type": "stream",
          "name": "stdout",
          "text": [
            "4 7\n",
            "1 2 4\n",
            "1 4 6\n",
            "2 1 3\n",
            "2 3 7\n",
            "3 1 5\n",
            "3 4 4\n",
            "4 3 2\n",
            "0 4 8 6 3 0 7 9 5 9 0 4 7 11 2 0 "
          ]
        }
      ]
    }
  ]
}