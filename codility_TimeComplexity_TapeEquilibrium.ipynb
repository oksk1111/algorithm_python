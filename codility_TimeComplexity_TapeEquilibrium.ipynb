{
  "nbformat": 4,
  "nbformat_minor": 0,
  "metadata": {
    "colab": {
      "name": "codility_TimeComplexity_TapeEquilibrium.ipynb",
      "provenance": [],
      "collapsed_sections": [],
      "authorship_tag": "ABX9TyPlOyw4hqzeyHXzcf9jyL99",
      "include_colab_link": true
    },
    "kernelspec": {
      "name": "python3",
      "display_name": "Python 3"
    },
    "language_info": {
      "name": "python"
    }
  },
  "cells": [
    {
      "cell_type": "markdown",
      "metadata": {
        "id": "view-in-github",
        "colab_type": "text"
      },
      "source": [
        "<a href=\"https://colab.research.google.com/github/oksk1111/algorithm_python/blob/main/codility_TimeComplexity_TapeEquilibrium.ipynb\" target=\"_parent\"><img src=\"https://colab.research.google.com/assets/colab-badge.svg\" alt=\"Open In Colab\"/></a>"
      ]
    },
    {
      "cell_type": "markdown",
      "source": [
        "A 리스트 내 왼쪽데이터, 오른쪽데이터의 각각 합을 뺀 절대값이 가장 작은 경우를 찾아라\n",
        "\n",
        "A[0] = 3 <br>\n",
        "A[1] = 1 <br>\n",
        "A[2] = 2 <br>\n",
        "A[3] = 4 <br>\n",
        "A[4] = 3 <br>\n",
        "\n",
        "P = 1, difference = |3 − 10| = 7 <br>\n",
        "P = 2, difference = |4 − 9| = 5 <br>\n",
        "P = 3, difference = |6 − 7| = 1 <br>\n",
        "P = 4, difference = |10 − 3| = 7 <br>\n",
        "\n",
        "return the smallest 1\n",
        "\n",
        "<br><br>\n",
        "예외처리 고려사항\n",
        "- 2개의 항만 존재하는 경우의 처리\n",
        "- 항상 왼쪽항과 오른쪽 항을 다 더해서 할 경우 O(NxN) 이 되어 타임아웃이 된다.\n",
        "- 리스트 모든 항을 다 더해봐야 한다. 항 중 음수가 있기 때문이다."
      ],
      "metadata": {
        "id": "M0ULaN7uk3Vr"
      }
    },
    {
      "cell_type": "code",
      "execution_count": 1,
      "metadata": {
        "colab": {
          "base_uri": "https://localhost:8080/"
        },
        "id": "BhEB9HyOhqZQ",
        "outputId": "2db86910-9c14-416d-e248-07527bdbae53"
      },
      "outputs": [
        {
          "output_type": "execute_result",
          "data": {
            "text/plain": [
              "1"
            ]
          },
          "metadata": {},
          "execution_count": 1
        }
      ],
      "source": [
        "INF = int(1e9)\n",
        "\n",
        "def solution(A):\n",
        "    sum1 = 0\n",
        "    sum2 = sum(A)\n",
        "    min_v = INF\n",
        "\n",
        "    for i in range(1, len(A)):\n",
        "        sum1 += A[i-1]\n",
        "        sum2 -= A[i-1]\n",
        "        t_v = abs(sum1 - sum2)\n",
        "        if min_v > t_v:\n",
        "            min_v = t_v\n",
        "\n",
        "    return min_v\n",
        "\n",
        "\n",
        "solution([3,1,2,4,3])       # return 1\n",
        "#solution([3,1])            # return 2"
      ]
    },
    {
      "cell_type": "code",
      "source": [
        "# test\n",
        "a = [1,2]\n",
        "a[1:2]"
      ],
      "metadata": {
        "colab": {
          "base_uri": "https://localhost:8080/"
        },
        "id": "J-I6abA2yOJP",
        "outputId": "acce263e-45be-42fb-c6b4-fecc7c510a02"
      },
      "execution_count": null,
      "outputs": [
        {
          "output_type": "execute_result",
          "data": {
            "text/plain": [
              "[2]"
            ]
          },
          "metadata": {},
          "execution_count": 14
        }
      ]
    }
  ]
}