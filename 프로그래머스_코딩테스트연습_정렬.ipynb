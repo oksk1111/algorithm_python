{
  "nbformat": 4,
  "nbformat_minor": 0,
  "metadata": {
    "colab": {
      "name": "프로그래머스_코딩테스트연습_정렬.ipynb",
      "provenance": [],
      "collapsed_sections": [],
      "authorship_tag": "ABX9TyPn4vzIaUfZwQSESGj7ghN2",
      "include_colab_link": true
    },
    "kernelspec": {
      "name": "python3",
      "display_name": "Python 3"
    },
    "language_info": {
      "name": "python"
    }
  },
  "cells": [
    {
      "cell_type": "markdown",
      "metadata": {
        "id": "view-in-github",
        "colab_type": "text"
      },
      "source": [
        "<a href=\"https://colab.research.google.com/github/oksk1111/algorithm_python/blob/main/%ED%94%84%EB%A1%9C%EA%B7%B8%EB%9E%98%EB%A8%B8%EC%8A%A4_%EC%BD%94%EB%94%A9%ED%85%8C%EC%8A%A4%ED%8A%B8%EC%97%B0%EC%8A%B5_%EC%A0%95%EB%A0%AC.ipynb\" target=\"_parent\"><img src=\"https://colab.research.google.com/assets/colab-badge.svg\" alt=\"Open In Colab\"/></a>"
      ]
    },
    {
      "cell_type": "markdown",
      "metadata": {
        "id": "OqLsxZw2D-_u"
      },
      "source": [
        "k번째 수\n",
        "\n",
        "array\tcommands\treturn\n",
        "\n",
        "[1, 5, 2, 6, 3, 7, 4]\t[[2, 5, 3], [4, 4, 1], [1, 7, 3]]\t[5, 6, 3]"
      ]
    },
    {
      "cell_type": "code",
      "metadata": {
        "colab": {
          "base_uri": "https://localhost:8080/",
          "height": 135
        },
        "id": "sI2NzcrfEpwf",
        "outputId": "359ddc0b-3176-4a0e-ef4b-869ba7d7b0a2"
      },
      "source": [
        "# test\n",
        "\n",
        "for a+1 in range(3):\n",
        "  print(a)"
      ],
      "execution_count": null,
      "outputs": [
        {
          "output_type": "error",
          "ename": "SyntaxError",
          "evalue": "ignored",
          "traceback": [
            "\u001b[0;36m  File \u001b[0;32m\"<ipython-input-1-cb332c00f6fa>\"\u001b[0;36m, line \u001b[0;32m3\u001b[0m\n\u001b[0;31m    for a+1 in range(3):\u001b[0m\n\u001b[0m       ^\u001b[0m\n\u001b[0;31mSyntaxError\u001b[0m\u001b[0;31m:\u001b[0m can't assign to operator\n"
          ]
        }
      ]
    },
    {
      "cell_type": "code",
      "metadata": {
        "colab": {
          "base_uri": "https://localhost:8080/"
        },
        "id": "Q_CC0l4lD3Ha",
        "outputId": "0696b6e7-cd91-40fe-aa90-5b6d7e6eb272"
      },
      "source": [
        "# k번째 수\n",
        "\n",
        "def solution(array, commands):\n",
        "    answer = []\n",
        "\n",
        "    for start, end, idx in commands:\n",
        "      sub_list = array[start-1:end]\n",
        "      sub_list.sort()\n",
        "      answer.append(sub_list[idx-1])\n",
        "\n",
        "    return answer\n",
        "\n",
        "\n",
        "array = [1, 5, 2, 6, 3, 7, 4]\n",
        "commands = [[2, 5, 3], [4, 4, 1], [1, 7, 3]]\n",
        "\n",
        "print(solution(array, commands))\n"
      ],
      "execution_count": null,
      "outputs": [
        {
          "output_type": "stream",
          "name": "stdout",
          "text": [
            "[5, 6, 3]\n"
          ]
        }
      ]
    },
    {
      "cell_type": "code",
      "metadata": {
        "id": "hppd7zMHH8DM"
      },
      "source": [
        "# k번째 수; 다른 사람 풀이\n",
        "#- 아이디어는 같으나 파이썬 기법을 어떻게 활용하느냐 차이\n",
        "\n",
        "def solution(array, commands):\n",
        "    return list(map(lambda x:sorted(array[x[0]-1:x[1]])[x[2]-1], commands))"
      ],
      "execution_count": null,
      "outputs": []
    },
    {
      "cell_type": "markdown",
      "metadata": {
        "id": "K86QGTddAQ5i"
      },
      "source": [
        "가장 큰 수\n",
        "\n",
        "[6,10, 2] 를 조합하여 가장 큰수 \"6210\" 얻기\n",
        "\n",
        "[3, 30, 34, 5, 9] -> \"9534330\"\n",
        "\n",
        "* 입력값이 힌트이다. 입력값은 0 < in < 1000 이다. 해당 범위 내에서만 비교\n",
        "* 3, 30, 34 의 비교는 비교 및 자릿수를 맞춰주기 위해 1자리 수를 3자리 수로 만들어 주어 진행. 즉, 3 -> 333, 30 -> 303030 으로 치환하여 스트링 비교. 스트링 비교 시 3 이 30 보다 크다."
      ]
    },
    {
      "cell_type": "code",
      "metadata": {
        "colab": {
          "base_uri": "https://localhost:8080/"
        },
        "id": "wj59rQ77-amM",
        "outputId": "8b76e18a-49d1-4284-fd5e-03a20d86922b"
      },
      "source": [
        "# permutations(): 중복X, 순서O\n",
        "# product(): 중복O, 순서O\n",
        "# combinations(): 중복X, 순서X\n",
        "# combinations_with_replacement(): 중복O, 순서X\n",
        "# 해당 문제는 중복X, 순서O 이므로 permutation() 이용\n",
        "\n",
        "# 아래는 오답\n",
        "\n",
        "from itertools import permutations\n",
        "\n",
        "def solution(numbers):\n",
        "  l1 = list(permutations(numbers, len(numbers)))\n",
        "  tl = max([''.join(map(str, tl)) for tl in l1])\n",
        "  print(tl)\n",
        "  \n",
        "  return ''\n",
        "\n",
        "\n",
        "print(solution([6, 10, 2]))"
      ],
      "execution_count": null,
      "outputs": [
        {
          "output_type": "stream",
          "name": "stdout",
          "text": [
            "6210\n",
            "\n"
          ]
        }
      ]
    },
    {
      "cell_type": "code",
      "metadata": {
        "colab": {
          "base_uri": "https://localhost:8080/"
        },
        "id": "ZbaMbvE3Efkn",
        "outputId": "9115de27-1726-4e34-f38d-d1d79798e9e7"
      },
      "source": [
        "# 가장 큰 수; 다름 사람 풀이\n",
        "#- 입력이 3자리 수라는 것에서 자릿수 * 3 을 하는 기법은 난생 처음봄. 심지어 본인의 이러한 코드에서 000을 상쇄하기 위해 int 로 캐스팅 하는 것은 알고리즘 문제에만 최적화된 풀이 느낌.\n",
        "\n",
        "def solution(numbers):\n",
        "  # 1. 각 숫자 항목을 str로 변환\n",
        "  # 2. str을 3번 곱합; 예: 3 -> 333. 30 -> 303030\n",
        "  # 3. 스트링 비교\n",
        "  #* int로 변환한 뒤, 또 str로 변환해주는 이유?\n",
        "  #-- 모든 값이 0일 때(즉, ‘000’을 처리하기 위해) int로 변환한 뒤, 다시 str로 변환한다.\n",
        "\n",
        "  numbers = list(map(str, numbers))\n",
        "  #print(numbers)\n",
        "  \n",
        "  numbers.sort(key=lambda x: x * 3, reverse=True)\n",
        "  #print(numbers)\n",
        "\n",
        "  return str(int(''.join(numbers)))\n",
        "\n",
        "\n",
        "print(solution([3, 30, 34, 5, 9]))"
      ],
      "execution_count": null,
      "outputs": [
        {
          "output_type": "stream",
          "name": "stdout",
          "text": [
            "9534330\n"
          ]
        }
      ]
    },
    {
      "cell_type": "markdown",
      "metadata": {
        "id": "tVN_Rl9l9FSo"
      },
      "source": [
        "H-index\n",
        "\n",
        "[3, 0, 6, 1, 5] 가 주어졌을 때, h보다 큰값이 h개 이상 있고, 작은값이 h개 미만인 최대 h 값 찾기\n",
        "\n",
        "결과: 3"
      ]
    },
    {
      "cell_type": "code",
      "metadata": {
        "id": "rrl_awBa9Ebl"
      },
      "source": [
        "# 다른 사람 풀이 1\n",
        "def solution(citations):\n",
        "    citations.sort(reverse=True)\n",
        "    for idx , citation in enumerate(citations):\n",
        "        if idx >= citation:\n",
        "            return idx\n",
        "    return len(citations)\n",
        "\n",
        "# 다른 사람 풀이 2\n",
        "def solution(citations):\n",
        "    citations.sort(reverse=True)\n",
        "    answer = max(map(min, enumerate(citations, start=1)))\n",
        "    return answer"
      ],
      "execution_count": null,
      "outputs": []
    }
  ]
}