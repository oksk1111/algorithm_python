{
  "nbformat": 4,
  "nbformat_minor": 0,
  "metadata": {
    "colab": {
      "name": "프로그래머스_코딩테스트연습_DFS/BFS.ipynb",
      "provenance": [],
      "collapsed_sections": [],
      "authorship_tag": "ABX9TyP+/tBeJ+k1EU0LKsrFqsX7",
      "include_colab_link": true
    },
    "kernelspec": {
      "name": "python3",
      "display_name": "Python 3"
    },
    "language_info": {
      "name": "python"
    }
  },
  "cells": [
    {
      "cell_type": "markdown",
      "metadata": {
        "id": "view-in-github",
        "colab_type": "text"
      },
      "source": [
        "<a href=\"https://colab.research.google.com/github/oksk1111/algorithm_python/blob/main/%ED%94%84%EB%A1%9C%EA%B7%B8%EB%9E%98%EB%A8%B8%EC%8A%A4_%EC%BD%94%EB%94%A9%ED%85%8C%EC%8A%A4%ED%8A%B8%EC%97%B0%EC%8A%B5_DFS_BFS.ipynb\" target=\"_parent\"><img src=\"https://colab.research.google.com/assets/colab-badge.svg\" alt=\"Open In Colab\"/></a>"
      ]
    },
    {
      "cell_type": "markdown",
      "metadata": {
        "id": "3j5VHC9rL5me"
      },
      "source": [
        "타겟 넘버\n",
        "\n",
        "[1, 1, 1, 1, 1] = numbers 가 주어졌을대 각 요소에 +, - 를 수행해 3 = target 으로 만들 수 있는 총 개수\n",
        "\n",
        "결과: 5"
      ]
    },
    {
      "cell_type": "code",
      "metadata": {
        "colab": {
          "base_uri": "https://localhost:8080/"
        },
        "id": "q0k7g60hGd4b",
        "outputId": "e46e9b10-ed87-4707-fdee-e4bfb7629dba"
      },
      "source": [
        "# 개인적으로 코드 생각이 어려웠음. 타인 코드 참고\n",
        "\n",
        "from collections import deque\n",
        "\n",
        "def solution(numbers, target):\n",
        "  q = deque()\n",
        "  idx = 0\n",
        "  q.append((numbers[idx], idx))\n",
        "  q.append((-numbers[idx], idx))\n",
        "  answer = 0\n",
        "  n = len(numbers)\n",
        "\n",
        "  while q:\n",
        "    cur, idx = q.popleft()\n",
        "    idx += 1\n",
        "\n",
        "    if idx < n:\n",
        "      q.append((cur + numbers[idx], idx))\n",
        "      q.append((cur - numbers[idx], idx))\n",
        "    else:\n",
        "      if cur == target:\n",
        "        answer += 1\n",
        "\n",
        "  return answer\n",
        "\n",
        "\n",
        "\n",
        "print(solution([1,1,1,1,1], 3))"
      ],
      "execution_count": null,
      "outputs": [
        {
          "output_type": "stream",
          "name": "stdout",
          "text": [
            "5\n"
          ]
        }
      ]
    },
    {
      "cell_type": "code",
      "metadata": {
        "id": "kT3ODXPQgvno"
      },
      "source": [
        "# 다른 사람 풀이1\n",
        "\n",
        "from itertools import product\n",
        "def solution(numbers, target):\n",
        "    l = [(x, -x) for x in numbers]\n",
        "    s = list(map(sum, product(*l)))\n",
        "    return s.count(target)\n",
        "    "
      ],
      "execution_count": null,
      "outputs": []
    },
    {
      "cell_type": "code",
      "metadata": {
        "id": "cEZ408Z0g5R6"
      },
      "source": [
        "# 다른 사람 풀이2\n",
        "\n",
        "def solution(numbers, target):\n",
        "    if not numbers and target == 0 :\n",
        "        return 1\n",
        "    elif not numbers:\n",
        "        return 0\n",
        "    else:\n",
        "        return solution(numbers[1:], target-numbers[0]) + solution(numbers[1:], target+numbers[0])"
      ],
      "execution_count": null,
      "outputs": []
    },
    {
      "cell_type": "code",
      "metadata": {
        "colab": {
          "base_uri": "https://localhost:8080/"
        },
        "id": "j8V_-hXYhKIR",
        "outputId": "afd6bca3-d37a-425f-9931-9ad987d7d246"
      },
      "source": [
        "# test\n",
        "from itertools import product\n",
        "\n",
        "l = [(1,-1), (1, -1)]\n",
        "print(l)\n",
        "print(list(product(l)))\n",
        "print(list(product(*l)))\n",
        "\n"
      ],
      "execution_count": null,
      "outputs": [
        {
          "output_type": "stream",
          "name": "stdout",
          "text": [
            "[(1, -1), (1, -1)]\n",
            "[((1, -1),), ((1, -1),)]\n",
            "[(1, 1), (1, -1), (-1, 1), (-1, -1)]\n"
          ]
        }
      ]
    }
  ]
}