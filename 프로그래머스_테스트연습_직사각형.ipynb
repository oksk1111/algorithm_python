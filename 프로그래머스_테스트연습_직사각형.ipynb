{
  "nbformat": 4,
  "nbformat_minor": 0,
  "metadata": {
    "colab": {
      "name": "프로그래머스_테스트연습_직사각형.ipynb",
      "provenance": [],
      "authorship_tag": "ABX9TyPQD7bJTnUvNFk5WKHtCnh1",
      "include_colab_link": true
    },
    "kernelspec": {
      "name": "python3",
      "display_name": "Python 3"
    },
    "language_info": {
      "name": "python"
    }
  },
  "cells": [
    {
      "cell_type": "markdown",
      "metadata": {
        "id": "view-in-github",
        "colab_type": "text"
      },
      "source": [
        "<a href=\"https://colab.research.google.com/github/oksk1111/algorithm_python/blob/main/%ED%94%84%EB%A1%9C%EA%B7%B8%EB%9E%98%EB%A8%B8%EC%8A%A4_%ED%85%8C%EC%8A%A4%ED%8A%B8%EC%97%B0%EC%8A%B5_%EC%A7%81%EC%82%AC%EA%B0%81%ED%98%95.ipynb\" target=\"_parent\"><img src=\"https://colab.research.google.com/assets/colab-badge.svg\" alt=\"Open In Colab\"/></a>"
      ]
    },
    {
      "cell_type": "code",
      "metadata": {
        "colab": {
          "base_uri": "https://localhost:8080/"
        },
        "id": "frKueR3Cf6Ji",
        "outputId": "e57455be-54ba-4c94-dabe-951fc7741fde"
      },
      "source": [
        "def solution(v):\n",
        "  v1 = []\n",
        "  v2 = []\n",
        "\n",
        "  for i, j in v:\n",
        "    if i not in v1:\n",
        "      v1.append(i)\n",
        "    else:\n",
        "      v1.remove(i)\n",
        "\n",
        "    if j not in v2:\n",
        "      v2.append(j)\n",
        "    else:\n",
        "      v2.remove(j)\n",
        "      \n",
        "  return v1+v2\n",
        "\n",
        "\n",
        "print(solution([[1, 4], [3, 4], [3, 10]]))"
      ],
      "execution_count": null,
      "outputs": [
        {
          "output_type": "stream",
          "name": "stdout",
          "text": [
            "[1, 10]\n"
          ]
        }
      ]
    }
  ]
}