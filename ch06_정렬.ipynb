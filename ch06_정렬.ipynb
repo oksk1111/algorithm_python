{
  "nbformat": 4,
  "nbformat_minor": 0,
  "metadata": {
    "colab": {
      "name": "ch06_정렬.ipynb",
      "provenance": [],
      "authorship_tag": "ABX9TyPY60qJo/Ey5g2eagDZ9vh4",
      "include_colab_link": true
    },
    "kernelspec": {
      "name": "python3",
      "display_name": "Python 3"
    },
    "language_info": {
      "name": "python"
    }
  },
  "cells": [
    {
      "cell_type": "markdown",
      "metadata": {
        "id": "view-in-github",
        "colab_type": "text"
      },
      "source": [
        "<a href=\"https://colab.research.google.com/github/oksk1111/algorithm_python/blob/main/ch06_%EC%A0%95%EB%A0%AC.ipynb\" target=\"_parent\"><img src=\"https://colab.research.google.com/assets/colab-badge.svg\" alt=\"Open In Colab\"/></a>"
      ]
    },
    {
      "cell_type": "code",
      "metadata": {
        "colab": {
          "base_uri": "https://localhost:8080/"
        },
        "id": "7SgB1BOKCi0I",
        "outputId": "d982f8f0-e1ce-4815-a881-0c7f77faebe6"
      },
      "source": [
        "# 선택 정렬\n",
        "\n",
        "arr = [7, 9, 1, 2, 0, 3, 8, 6, 4, 5]\n",
        "\n",
        "for i in range(len(arr)):\n",
        "  min_idx = i\n",
        "  for j in range(i+1, len(arr)):\n",
        "    if arr[min_idx] > arr[j]:\n",
        "      min_idx = j\n",
        "  \n",
        "  arr[min_idx], arr[i] = arr[i], arr[min_idx]\n",
        "\n",
        "print(arr)"
      ],
      "execution_count": null,
      "outputs": [
        {
          "output_type": "stream",
          "name": "stdout",
          "text": [
            "[0, 1, 2, 3, 4, 5, 6, 7, 8, 9]\n"
          ]
        }
      ]
    },
    {
      "cell_type": "code",
      "metadata": {
        "colab": {
          "base_uri": "https://localhost:8080/"
        },
        "id": "7NbVu0pGDkpA",
        "outputId": "f1223992-cf86-438b-9989-375ccc788c25"
      },
      "source": [
        "# 삽입 정렬; (부분 버블 정렬)\n",
        "\n",
        "arr = [7, 9, 1, 2, 0, 3, 8, 6, 4, 5]\n",
        "\n",
        "for i in range(1, len(arr)):\n",
        "  for j in range(i, 0, -1):\n",
        "    if arr[j-1] > arr[j]:\n",
        "      arr[j-1], arr[j] = arr[j], arr[j-1]\n",
        "    else:\n",
        "      break\n",
        "\n",
        "print(arr)"
      ],
      "execution_count": null,
      "outputs": [
        {
          "output_type": "stream",
          "name": "stdout",
          "text": [
            "[0, 1, 2, 3, 4, 5, 6, 7, 8, 9]\n"
          ]
        }
      ]
    },
    {
      "cell_type": "code",
      "metadata": {
        "colab": {
          "base_uri": "https://localhost:8080/"
        },
        "id": "HffSwrhQHpei",
        "outputId": "1f7d6abf-5e92-4aab-8a71-ab8d33007b4b"
      },
      "source": [
        "# 퀵 정렬 1 (파이썬 버전)\n",
        "\n",
        "arr = [7, 9, 1, 2, 0, 3, 8, 6, 4, 5]\n",
        "\n",
        "def quick_sort(array):\n",
        "  # 리스트가 한개 이하이면 종료\n",
        "  if len(array) <= 1:\n",
        "    return array\n",
        "\n",
        "  pivot = array[0]    # 임의의 시작점을 가장 첫값으로\n",
        "  tail = array[1:]    # 피벗 이외의 값\n",
        "\n",
        "  left_side = [x for x in tail if x <= pivot]\n",
        "  right_side = [x for x in tail if x > pivot]\n",
        "\n",
        "  return quick_sort(left_side) + [pivot] + quick_sort(right_side)\n",
        "\n",
        "\n",
        "print(quick_sort(arr))"
      ],
      "execution_count": null,
      "outputs": [
        {
          "output_type": "stream",
          "name": "stdout",
          "text": [
            "[0, 1, 2, 3, 4, 5, 6, 7, 8, 9]\n"
          ]
        }
      ]
    }
  ]
}