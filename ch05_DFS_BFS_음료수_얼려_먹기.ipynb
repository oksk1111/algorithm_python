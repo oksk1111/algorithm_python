{
  "nbformat": 4,
  "nbformat_minor": 0,
  "metadata": {
    "colab": {
      "name": "ch05_DFS/BFS_음료수 얼려 먹기.ipynb",
      "provenance": [],
      "collapsed_sections": [],
      "authorship_tag": "ABX9TyN30dBm7+6s4gE3I8B3lkeu",
      "include_colab_link": true
    },
    "kernelspec": {
      "name": "python3",
      "display_name": "Python 3"
    },
    "language_info": {
      "name": "python"
    }
  },
  "cells": [
    {
      "cell_type": "markdown",
      "metadata": {
        "id": "view-in-github",
        "colab_type": "text"
      },
      "source": [
        "<a href=\"https://colab.research.google.com/github/oksk1111/algorithm_python/blob/main/ch05_DFS_BFS_%EC%9D%8C%EB%A3%8C%EC%88%98_%EC%96%BC%EB%A0%A4_%EB%A8%B9%EA%B8%B0.ipynb\" target=\"_parent\"><img src=\"https://colab.research.google.com/assets/colab-badge.svg\" alt=\"Open In Colab\"/></a>"
      ]
    },
    {
      "cell_type": "markdown",
      "metadata": {
        "id": "tvtXdKrvaUWE"
      },
      "source": [
        "행열에서 0으로 이어진 곳의 전체 갯수 세기\n",
        "\n",
        "\n",
        "입력예:\n",
        "\n",
        "4 5\n",
        "\n",
        "0 0 1 1 0\n",
        "\n",
        "0 0 0 1 1\n",
        "\n",
        "1 1 1 1 1\n",
        "\n",
        "0 0 0 0 0\n",
        "\n",
        "\n",
        "결과:\n",
        "\n",
        "3"
      ]
    },
    {
      "cell_type": "code",
      "metadata": {
        "colab": {
          "base_uri": "https://localhost:8080/"
        },
        "id": "zvW2wLjBaNHv",
        "outputId": "d790c7e5-1b7c-44bd-aee4-5bd755de85cd"
      },
      "source": [
        "def dfs(x, y, graph):\n",
        "  # 범위가 벗어나도 False\n",
        "  if x < 0 or x >= n or y < 0 or y >= m:\n",
        "    return False\n",
        "\n",
        "  # 1. graph 방문한적이 없으면 방문표시 후 재귀호출\n",
        "  # 2. graph 방문한적이 있으면 return True\n",
        "  if graph[x][y] == 0:\n",
        "    graph[x][y] = True\n",
        "\n",
        "    dfs(x-1, y, graph)\n",
        "    dfs(x+1, y, graph)\n",
        "    dfs(x, y-1, graph)\n",
        "    dfs(x, y+1, graph)\n",
        "\n",
        "    return True\n",
        "  else:\n",
        "    return False\n",
        "\n",
        "\n",
        "n , m = map(int, input().split())\n",
        "graph = []\n",
        "for _ in range(n):\n",
        "  graph.append(list(map(int, input().split())))\n",
        "result = 0\n",
        "\n",
        "for i in range(n):\n",
        "  for j in range(m):\n",
        "    if dfs(i, j, graph) == True:\n",
        "      result += 1\n",
        "\n",
        "print(result)"
      ],
      "execution_count": null,
      "outputs": [
        {
          "output_type": "stream",
          "name": "stdout",
          "text": [
            "4 5\n",
            "0 0 1 1 0\n",
            "0 0 0 1 1\n",
            "1 1 1 1 1\n",
            "0 0 0 0 0\n",
            "3\n"
          ]
        }
      ]
    }
  ]
}