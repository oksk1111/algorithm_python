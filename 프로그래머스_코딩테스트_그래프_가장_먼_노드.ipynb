{
  "nbformat": 4,
  "nbformat_minor": 0,
  "metadata": {
    "colab": {
      "name": "프로그래머스_코딩테스트_그래프_가장 먼 노드.ipynb",
      "provenance": [],
      "collapsed_sections": [],
      "authorship_tag": "ABX9TyOFkXM7F54HAhdOWIJxyb92",
      "include_colab_link": true
    },
    "kernelspec": {
      "name": "python3",
      "display_name": "Python 3"
    },
    "language_info": {
      "name": "python"
    }
  },
  "cells": [
    {
      "cell_type": "markdown",
      "metadata": {
        "id": "view-in-github",
        "colab_type": "text"
      },
      "source": [
        "<a href=\"https://colab.research.google.com/github/oksk1111/algorithm_python/blob/main/%ED%94%84%EB%A1%9C%EA%B7%B8%EB%9E%98%EB%A8%B8%EC%8A%A4_%EC%BD%94%EB%94%A9%ED%85%8C%EC%8A%A4%ED%8A%B8_%EA%B7%B8%EB%9E%98%ED%94%84_%EA%B0%80%EC%9E%A5_%EB%A8%BC_%EB%85%B8%EB%93%9C.ipynb\" target=\"_parent\"><img src=\"https://colab.research.google.com/assets/colab-badge.svg\" alt=\"Open In Colab\"/></a>"
      ]
    },
    {
      "cell_type": "markdown",
      "source": [
        "\"가장 먼\", \"가장 짧은\" 이 들어가면 BFS 로 문제 풀이 <br>\n",
        "\"모두\" 가 들어가면 list.count 사용 <br>\n",
        "\n",
        "입출력 예 <br>\n",
        "n = 6 <br>\n",
        "vertex = [[3, 6], [4, 3], [3, 2], [1, 3], [1, 2], [2, 4], [5, 2]] <br>\n",
        "return = 3 <br>"
      ],
      "metadata": {
        "id": "UqeB11s_526S"
      }
    },
    {
      "cell_type": "code",
      "execution_count": null,
      "metadata": {
        "colab": {
          "base_uri": "https://localhost:8080/"
        },
        "id": "unawrzJt5ru6",
        "outputId": "6b3f3297-9501-44ad-c96d-327693e6ca2b"
      },
      "outputs": [
        {
          "output_type": "execute_result",
          "data": {
            "text/plain": [
              "3"
            ]
          },
          "metadata": {},
          "execution_count": 16
        }
      ],
      "source": [
        "from collections import deque\n",
        "\n",
        "def solution(n, edge):\n",
        "    # 1. 그래프 만들기: start index = 1\n",
        "    graph = [[] for _ in range(n+1)]\n",
        "    for a, b in edge:\n",
        "        graph[a].append(b)\n",
        "        graph[b].append(a)\n",
        "\n",
        "    # 2. 방문 리스트 만들기\n",
        "    visited = [0] * (n+1)\n",
        "\n",
        "    # 3. BFS\n",
        "    q = deque([1])\n",
        "    visited[1] = 1\n",
        "\n",
        "    while q:\n",
        "        v = q.popleft()\n",
        "        for i in graph[v]:\n",
        "            if not visited[i]:\n",
        "                visited[i] = visited[v] + 1\n",
        "                q.append(i)\n",
        "\n",
        "    max_v = max(visited)\n",
        "    cnt = visited.count(max_v)\n",
        "    answer = 1\n",
        "    if cnt > 0:\n",
        "        answer = cnt\n",
        "\n",
        "    return answer\n",
        "\n",
        "\n",
        "solution(6, [[3, 6], [4, 3], [3, 2], [1, 3], [1, 2], [2, 4], [5, 2]])   # return 3"
      ]
    },
    {
      "cell_type": "code",
      "source": [
        "a = [[] for _ in range(5)]\n",
        "print(a)\n",
        "\n",
        "b = [] * 5\n",
        "print(b)"
      ],
      "metadata": {
        "colab": {
          "base_uri": "https://localhost:8080/"
        },
        "id": "Sx4f0RdQYT9s",
        "outputId": "319b1305-7f43-4800-be1f-6990a026830b"
      },
      "execution_count": null,
      "outputs": [
        {
          "output_type": "stream",
          "name": "stdout",
          "text": [
            "[[], [], [], [], []]\n",
            "[]\n"
          ]
        }
      ]
    },
    {
      "cell_type": "code",
      "source": [
        "# test BFS: 모든 노드 방문\n",
        "\n",
        "from collections import deque\n",
        "\n",
        "# 각 노드 연결 구조를 2차원구조로\n",
        "graph = [\n",
        "         [],\n",
        "         [2, 3, 8],\n",
        "         [1, 7],\n",
        "         [1, 4, 5],\n",
        "         [3, 5],\n",
        "         [3, 4],\n",
        "         [7],\n",
        "         [2, 6, 8],\n",
        "         [1, 7]\n",
        "         ]\n",
        "\n",
        "# 각 노드 방문 여부 배열\n",
        "visited = [False] * 9   # total 8개의 데이터지만 편의상 노드번호를 배열 번호와 일치시키기 위해 0을 제외한다.\n",
        "\n",
        "queue = deque([1])\n",
        "visited[1] = True\n",
        "\n",
        "while queue:\n",
        "    # 1. 인접노드를 탐색할 큐의 노드를 뺀다.\n",
        "    # 2. 뺀 노드의 인접노드들을 방문한적이 없으면 큐에 넣고 방문처리한다.\n",
        "    # 3. 반복\n",
        "\n",
        "    v = queue.popleft()\n",
        "    print(v, end=\" \")\n",
        "    for i in graph[v]:\n",
        "        if not visited[i]:\n",
        "            queue.append(i)\n",
        "            visited[i] = True"
      ],
      "metadata": {
        "colab": {
          "base_uri": "https://localhost:8080/"
        },
        "id": "wKjVLiP46I-N",
        "outputId": "6a43d692-2c7e-436a-ebc6-fd22f7155c51"
      },
      "execution_count": null,
      "outputs": [
        {
          "output_type": "stream",
          "name": "stdout",
          "text": [
            "1 2 3 8 7 4 5 6 "
          ]
        }
      ]
    }
  ]
}