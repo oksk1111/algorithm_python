{
  "nbformat": 4,
  "nbformat_minor": 0,
  "metadata": {
    "colab": {
      "name": "codility_CountingElements_FrogRiverOne.ipynb",
      "provenance": [],
      "collapsed_sections": [],
      "authorship_tag": "ABX9TyMHz6QDa/mRxVPHxHWc6bdr",
      "include_colab_link": true
    },
    "kernelspec": {
      "name": "python3",
      "display_name": "Python 3"
    },
    "language_info": {
      "name": "python"
    }
  },
  "cells": [
    {
      "cell_type": "markdown",
      "metadata": {
        "id": "view-in-github",
        "colab_type": "text"
      },
      "source": [
        "<a href=\"https://colab.research.google.com/github/oksk1111/algorithm_python/blob/main/codility_CountingElements_FrogRiverOne.ipynb\" target=\"_parent\"><img src=\"https://colab.research.google.com/assets/colab-badge.svg\" alt=\"Open In Colab\"/></a>"
      ]
    },
    {
      "cell_type": "markdown",
      "source": [
        "\n",
        "\n",
        "X = 5 and array A such that: <br>\n",
        "  A[0] = 1 <br>\n",
        "  A[1] = 3 <br>\n",
        "  A[2] = 1 <br>\n",
        "  A[3] = 4 <br>\n",
        "  A[4] = 2 <br>\n",
        "  A[5] = 3 <br>\n",
        "  A[6] = 5 <br>\n",
        "  A[7] = 4 <br>\n",
        "the function should return 6, as explained above. <br>\n",
        "If the frog is never able to jump to the other side of the river, the function should return −1.  <br>\n",
        "<br>\n",
        "문제해석\n",
        "- A[K] 동안 1..X 까지 순차적으로 될 때의 시간을 찾아라."
      ],
      "metadata": {
        "id": "M99-SybSAPZj"
      }
    },
    {
      "cell_type": "code",
      "execution_count": 17,
      "metadata": {
        "colab": {
          "base_uri": "https://localhost:8080/"
        },
        "id": "TpCfeK_p_DMh",
        "outputId": "391abaaa-9e0f-4a2b-bb49-b4595c814072"
      },
      "outputs": [
        {
          "output_type": "execute_result",
          "data": {
            "text/plain": [
              "6"
            ]
          },
          "metadata": {},
          "execution_count": 17
        }
      ],
      "source": [
        "def solution(X, A):\n",
        "    t_s = set([])\n",
        "\n",
        "    for i in range(len(A)):\n",
        "        if A[i] <= X and len(t_s) != X:\n",
        "            t_s.add(A[i])\n",
        "        \n",
        "        if len(t_s) == X:\n",
        "            return i\n",
        "\n",
        "    return -1    \n",
        "\n",
        "\n",
        "solution(5, [1,3,1,4,2,3,5,4])      # return 6\n",
        "#solution(7, [1,3,1,4,2,3,5,4])     # return -1"
      ]
    },
    {
      "cell_type": "code",
      "source": [
        "# test\n",
        "a = list(range(1,10))\n",
        "a"
      ],
      "metadata": {
        "colab": {
          "base_uri": "https://localhost:8080/"
        },
        "id": "PxvAUEL-sP5l",
        "outputId": "9637775e-9680-4d84-d3be-ac29354da44c"
      },
      "execution_count": 7,
      "outputs": [
        {
          "output_type": "execute_result",
          "data": {
            "text/plain": [
              "[1, 2, 3, 4, 5, 6, 7, 8, 9]"
            ]
          },
          "metadata": {},
          "execution_count": 7
        }
      ]
    },
    {
      "cell_type": "code",
      "source": [
        "# test\n",
        "a = [1,2,3]\n",
        "a.remove(2)\n",
        "print(a)\n",
        "a.remove(4)\n",
        "print(a)"
      ],
      "metadata": {
        "colab": {
          "base_uri": "https://localhost:8080/",
          "height": 244
        },
        "id": "nD4q97V2sSOv",
        "outputId": "cdde7630-b665-4e81-ab96-4f588b7ae4fb"
      },
      "execution_count": 10,
      "outputs": [
        {
          "output_type": "stream",
          "name": "stdout",
          "text": [
            "[1, 3]\n"
          ]
        },
        {
          "output_type": "error",
          "ename": "ValueError",
          "evalue": "ignored",
          "traceback": [
            "\u001b[0;31m---------------------------------------------------------------------------\u001b[0m",
            "\u001b[0;31mValueError\u001b[0m                                Traceback (most recent call last)",
            "\u001b[0;32m<ipython-input-10-38421d1cdb6b>\u001b[0m in \u001b[0;36m<module>\u001b[0;34m()\u001b[0m\n\u001b[1;32m      3\u001b[0m \u001b[0ma\u001b[0m\u001b[0;34m.\u001b[0m\u001b[0mremove\u001b[0m\u001b[0;34m(\u001b[0m\u001b[0;36m2\u001b[0m\u001b[0;34m)\u001b[0m\u001b[0;34m\u001b[0m\u001b[0;34m\u001b[0m\u001b[0m\n\u001b[1;32m      4\u001b[0m \u001b[0mprint\u001b[0m\u001b[0;34m(\u001b[0m\u001b[0ma\u001b[0m\u001b[0;34m)\u001b[0m\u001b[0;34m\u001b[0m\u001b[0;34m\u001b[0m\u001b[0m\n\u001b[0;32m----> 5\u001b[0;31m \u001b[0ma\u001b[0m\u001b[0;34m.\u001b[0m\u001b[0mremove\u001b[0m\u001b[0;34m(\u001b[0m\u001b[0;36m4\u001b[0m\u001b[0;34m)\u001b[0m\u001b[0;34m\u001b[0m\u001b[0;34m\u001b[0m\u001b[0m\n\u001b[0m\u001b[1;32m      6\u001b[0m \u001b[0mprint\u001b[0m\u001b[0;34m(\u001b[0m\u001b[0ma\u001b[0m\u001b[0;34m)\u001b[0m\u001b[0;34m\u001b[0m\u001b[0;34m\u001b[0m\u001b[0m\n",
            "\u001b[0;31mValueError\u001b[0m: list.remove(x): x not in list"
          ]
        }
      ]
    }
  ]
}