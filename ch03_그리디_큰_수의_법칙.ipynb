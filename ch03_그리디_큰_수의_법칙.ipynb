{
  "nbformat": 4,
  "nbformat_minor": 0,
  "metadata": {
    "colab": {
      "name": "ch03_그리디_큰 수의 법칙.ipynb",
      "provenance": [],
      "collapsed_sections": [],
      "authorship_tag": "ABX9TyPaocZVFmairzqZbAnHQuVU",
      "include_colab_link": true
    },
    "kernelspec": {
      "name": "python3",
      "display_name": "Python 3"
    },
    "language_info": {
      "name": "python"
    }
  },
  "cells": [
    {
      "cell_type": "markdown",
      "metadata": {
        "id": "view-in-github",
        "colab_type": "text"
      },
      "source": [
        "<a href=\"https://colab.research.google.com/github/oksk1111/algorithm_python/blob/main/ch03_%EA%B7%B8%EB%A6%AC%EB%94%94_%ED%81%B0_%EC%88%98%EC%9D%98_%EB%B2%95%EC%B9%99.ipynb\" target=\"_parent\"><img src=\"https://colab.research.google.com/assets/colab-badge.svg\" alt=\"Open In Colab\"/></a>"
      ]
    },
    {
      "cell_type": "markdown",
      "metadata": {
        "id": "QWpkwRaq7Dr6"
      },
      "source": [
        "입력예:\n",
        "5 8 3\n",
        "2 4 5 4 6\n",
        "\n",
        "결과\n",
        "46\n",
        "\n",
        "풀이: 66656665"
      ]
    },
    {
      "cell_type": "code",
      "metadata": {
        "colab": {
          "base_uri": "https://localhost:8080/"
        },
        "id": "YMk5G5vrxKDT",
        "outputId": "f495d28d-cb59-480b-f5eb-c335503a742d"
      },
      "source": [
        "# n = 숫자 배열갯수\n",
        "# m = 전체 더할 숫자 갯수\n",
        "# k = 연속허용 숫자 갯수\n",
        "\n",
        "n, m, k = map(int, input().split())\n",
        "numbers = list(map(int, input().split()))\n",
        "\n",
        "numbers.sort(reverse=True)\n",
        "total = 0\n",
        "tempK = 0\n",
        "\n",
        "for i in range(m):\n",
        "  if tempK < k:\n",
        "    total += numbers[0]\n",
        "    tempK += 1\n",
        "  else:\n",
        "    total += numbers[1]\n",
        "    tempK = 0\n",
        "\n",
        "print(total)"
      ],
      "execution_count": null,
      "outputs": [
        {
          "output_type": "stream",
          "name": "stdout",
          "text": [
            "5 8 3\n",
            "2 4 5 4 6\n",
            "46\n"
          ]
        }
      ]
    }
  ]
}