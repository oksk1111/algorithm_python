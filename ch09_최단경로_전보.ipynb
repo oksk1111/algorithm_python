{
  "nbformat": 4,
  "nbformat_minor": 0,
  "metadata": {
    "colab": {
      "name": "ch09_최단경로_전보.ipynb",
      "provenance": [],
      "collapsed_sections": [],
      "authorship_tag": "ABX9TyNKqjMjWzB8d8HeQCIIAKrg",
      "include_colab_link": true
    },
    "kernelspec": {
      "name": "python3",
      "display_name": "Python 3"
    },
    "language_info": {
      "name": "python"
    }
  },
  "cells": [
    {
      "cell_type": "markdown",
      "metadata": {
        "id": "view-in-github",
        "colab_type": "text"
      },
      "source": [
        "<a href=\"https://colab.research.google.com/github/oksk1111/algorithm_python/blob/main/ch09_%EC%B5%9C%EB%8B%A8%EA%B2%BD%EB%A1%9C_%EC%A0%84%EB%B3%B4.ipynb\" target=\"_parent\"><img src=\"https://colab.research.google.com/assets/colab-badge.svg\" alt=\"Open In Colab\"/></a>"
      ]
    },
    {
      "cell_type": "markdown",
      "metadata": {
        "id": "U4AnYhyjZrt0"
      },
      "source": [
        "n  개의 노드에서 start 노드에서 출발할 때 이르는 가장 빠른 길 중 최대시간을 출력\n",
        "\n",
        "\n",
        "입력예:\n",
        "\n",
        "3 2 1 # n = 노드개수, m = 간선개수, start 노드\n",
        "\n",
        "1 2 4 # from, to, dist\n",
        "\n",
        "1 3 2\n",
        "\n",
        "\n",
        "출력예:\n",
        "\n",
        "2 4  # start에서 이르는 노드, 최단경로중 가장 큰 값\n"
      ]
    },
    {
      "cell_type": "code",
      "metadata": {
        "colab": {
          "base_uri": "https://localhost:8080/"
        },
        "id": "RbnBhh2oZn0J",
        "outputId": "0d0d97f5-8f89-4fa7-c41f-56c2186e30ab"
      },
      "source": [
        "import heapq\n",
        "INF = int(1e9)\n",
        "\n",
        "n, m, start = map(int, input().split())\n",
        "graph = [[] for _ in range(n+1)]    # 1. 그래프; 0번 노드는 없음. 1번부터 시작\n",
        "distance = [INF] * (n+1)1          # 2. 거리배열; 다익스트라 최단경로에선, 각 노드가 가지는 최단경로를 저장할 배열이 따로 존재한다.\n",
        "\n",
        "# 3. 간선정보\n",
        "for _ in range(m):\n",
        "  x, y, dist = map(int, input().split())\n",
        "  graph[x].append((y, dist))  # (to, dist)\n",
        "\n",
        "# 4. dijkstra\n",
        "def dijkstra(start):\n",
        "  q = []\n",
        "\n",
        "  # 4.1. 시작노드\n",
        "  heapq.heappush(q, (0, start))   # (dist, from)\n",
        "  distance[start] = 0\n",
        "\n",
        "  # 4.2. 우선순위큐 동작\n",
        "  while q:\n",
        "    # 4.3. 현재 힙값 꺼내기\n",
        "    dist, now = heapq.heappop(q)\n",
        "    \n",
        "    # 4.4. 이전값보다 지금값이 크면 패스\n",
        "    if distance[now] < dist:\n",
        "      continue\n",
        "\n",
        "    # 4.5. 현재노드와 연결된 노드 검토\n",
        "    for i in graph[now]:\n",
        "      cost = dist + i[1]\n",
        "\n",
        "      # 현재노드를 거쳐서 다른노드로 가는 것이 더 짧다면, 갱신후 heappush\n",
        "      if cost < distance[i[0]]:\n",
        "        distance[i[0]] = cost\n",
        "        heapq.heappush(q, (cost, i[0]))\n",
        "\n",
        "\n",
        "\n",
        "dijkstra(start)\n",
        "\n",
        "count = 0\n",
        "max_distance = 0\n",
        "for d in distance:\n",
        "  if d != INF:\n",
        "    count += 1\n",
        "    max_distance = max(max_distance, d)\n",
        "\n",
        "print(count - 1, max_distance)"
      ],
      "execution_count": null,
      "outputs": [
        {
          "output_type": "stream",
          "name": "stdout",
          "text": [
            "3 2 1\n",
            "1 2 4\n",
            "1 3 2\n",
            "2 4\n"
          ]
        }
      ]
    }
  ]
}