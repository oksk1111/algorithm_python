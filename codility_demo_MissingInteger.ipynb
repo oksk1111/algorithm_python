{
  "nbformat": 4,
  "nbformat_minor": 0,
  "metadata": {
    "colab": {
      "name": "codility_demo_MissingInteger.ipynb",
      "provenance": [],
      "collapsed_sections": [],
      "authorship_tag": "ABX9TyMNUJac3FCiHD5eBFqFKDy1",
      "include_colab_link": true
    },
    "kernelspec": {
      "name": "python3",
      "display_name": "Python 3"
    },
    "language_info": {
      "name": "python"
    }
  },
  "cells": [
    {
      "cell_type": "markdown",
      "metadata": {
        "id": "view-in-github",
        "colab_type": "text"
      },
      "source": [
        "<a href=\"https://colab.research.google.com/github/oksk1111/algorithm_python/blob/main/codility_demo_MissingInteger.ipynb\" target=\"_parent\"><img src=\"https://colab.research.google.com/assets/colab-badge.svg\" alt=\"Open In Colab\"/></a>"
      ]
    },
    {
      "cell_type": "markdown",
      "source": [
        "This is a demo task. <br>\n",
        "\n",
        "Write a function:<br>\n",
        "\n",
        "def solution(A)<br>\n",
        "\n",
        "that, given an array A of N integers, returns the smallest positive integer <br>(greater than 0) that does not occur in A.<br>\n",
        "\n",
        "For example, given A = [1, 3, 6, 4, 1, 2], the function should return 5.<br>\n",
        "\n",
        "Given A = [1, 2, 3], the function should return 4.<br>\n",
        "\n",
        "Given A = [−1, −3], the function should return 1.<br>\n",
        "\n",
        "Write an efficient algorithm for the following assumptions:<br>\n",
        "\n",
        "N is an integer within the range [1..100,000];<br>\n",
        "each element of array A is an integer within the range [−1,000,000..1,000,000].<br>\n",
        "Copyright 2009–2022 by Codility Limited. All Rights Reserved. Unauthorized copying, publication or disclosure prohibited."
      ],
      "metadata": {
        "id": "XRt3roNVhsfy"
      }
    },
    {
      "cell_type": "code",
      "execution_count": null,
      "metadata": {
        "colab": {
          "base_uri": "https://localhost:8080/"
        },
        "id": "JsRTHENIYdI-",
        "outputId": "e18e37da-fd6d-4887-b542-ca03f59cda41"
      },
      "outputs": [
        {
          "output_type": "stream",
          "name": "stdout",
          "text": [
            "1\n"
          ]
        }
      ],
      "source": [
        "\n",
        "def solution(A):\n",
        "  A.sort()\n",
        "  min = 1\n",
        "  for i in A:\n",
        "    if i == min:\n",
        "      min += 1\n",
        "    \n",
        "  return min\n",
        "\n",
        "\n",
        "A = [-1, -3]\n",
        "print(solution(A))"
      ]
    }
  ]
}