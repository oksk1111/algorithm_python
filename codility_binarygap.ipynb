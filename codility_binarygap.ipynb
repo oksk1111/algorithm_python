{
  "nbformat": 4,
  "nbformat_minor": 0,
  "metadata": {
    "colab": {
      "name": "codility_binarygap.ipynb",
      "provenance": [],
      "collapsed_sections": [],
      "authorship_tag": "ABX9TyP+Ru7jr63RmQeO5uzI89WX",
      "include_colab_link": true
    },
    "kernelspec": {
      "name": "python3",
      "display_name": "Python 3"
    },
    "language_info": {
      "name": "python"
    }
  },
  "cells": [
    {
      "cell_type": "markdown",
      "metadata": {
        "id": "view-in-github",
        "colab_type": "text"
      },
      "source": [
        "<a href=\"https://colab.research.google.com/github/oksk1111/algorithm_python/blob/main/codility_binarygap.ipynb\" target=\"_parent\"><img src=\"https://colab.research.google.com/assets/colab-badge.svg\" alt=\"Open In Colab\"/></a>"
      ]
    },
    {
      "cell_type": "code",
      "source": [
        "# N = 529 (10000010001), return 5  (1사이의 연속된 0의 개수중 가장긴것)\n",
        "# 1041/5; 32/0; 328/2\n",
        "\n",
        "# 모든 binary 의 시작은 1이라는 것이 중요하다.\n",
        "# 1은 시작점이자 종료점이다. 1이 있을때마다 0을 계산하기만 하면 된다.\n",
        "\n",
        "def solution(N):\n",
        "    z_max = 0\n",
        "    z_cnt = 0\n",
        "    b = format(N, 'b')\n",
        "\n",
        "    for bn in b:\n",
        "        if bn == \"1\":\n",
        "            z_max = max(z_cnt, z_max)\n",
        "            z_cnt = 0\n",
        "        else:\n",
        "            z_cnt += 1\n",
        "\n",
        "    return z_max\n",
        "\n",
        "\n",
        "solution(1041)"
      ],
      "metadata": {
        "colab": {
          "base_uri": "https://localhost:8080/"
        },
        "id": "MGnljrdBhpjr",
        "outputId": "b2b9ef26-1c27-4b22-94a8-6be562bf224a"
      },
      "execution_count": null,
      "outputs": [
        {
          "output_type": "stream",
          "name": "stdout",
          "text": [
            "10000010001\n"
          ]
        },
        {
          "output_type": "execute_result",
          "data": {
            "text/plain": [
              "5"
            ]
          },
          "metadata": {},
          "execution_count": 18
        }
      ]
    },
    {
      "cell_type": "code",
      "execution_count": 20,
      "metadata": {
        "colab": {
          "base_uri": "https://localhost:8080/"
        },
        "id": "mJu7oMJwdXDy",
        "outputId": "7215c3b2-8b7c-498a-9817-dd6f6ec214dd"
      },
      "outputs": [
        {
          "output_type": "stream",
          "name": "stdout",
          "text": [
            "111100\n",
            "74\n",
            "3c\n",
            "<class 'str'>\n",
            "10\n"
          ]
        }
      ],
      "source": [
        "# test\n",
        "#- decimal to binary\n",
        "value = 60\n",
        "\n",
        "b = format(value, 'b')\n",
        "o = format(value, 'o')\n",
        "h = format(value, 'x')\n",
        "\n",
        "print(b)\n",
        "print(o)\n",
        "print(h)\n",
        "print(type(b))\n",
        "\n",
        "print(max(10, 7))"
      ]
    }
  ]
}